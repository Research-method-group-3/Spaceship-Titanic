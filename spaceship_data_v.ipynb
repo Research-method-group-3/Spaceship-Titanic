{
  "nbformat": 4,
  "nbformat_minor": 0,
  "metadata": {
    "colab": {
      "provenance": []
    },
    "kernelspec": {
      "name": "python3",
      "display_name": "Python 3"
    },
    "language_info": {
      "name": "python"
    }
  },
  "cells": [
    {
      "cell_type": "code",
      "execution_count": 2,
      "metadata": {
        "id": "5O9dUM_A9cYj",
        "colab": {
          "base_uri": "https://localhost:8080/",
          "height": 808
        },
        "outputId": "1675820b-f5a9-4d2d-ce01-1c089f6f8760"
      },
      "outputs": [
        {
          "output_type": "stream",
          "name": "stdout",
          "text": [
            "Looking in indexes: https://pypi.org/simple, https://us-python.pkg.dev/colab-wheels/public/simple/\n",
            "Requirement already satisfied: kaleido in /usr/local/lib/python3.10/dist-packages (0.2.1)\n",
            "Looking in indexes: https://pypi.org/simple, https://us-python.pkg.dev/colab-wheels/public/simple/\n",
            "Requirement already satisfied: xgboost==1.7.2 in /usr/local/lib/python3.10/dist-packages (1.7.2)\n",
            "Requirement already satisfied: numpy in /usr/local/lib/python3.10/dist-packages (from xgboost==1.7.2) (1.21.5)\n",
            "Requirement already satisfied: scipy in /usr/local/lib/python3.10/dist-packages (from xgboost==1.7.2) (1.10.1)\n",
            "Looking in indexes: https://pypi.org/simple, https://us-python.pkg.dev/colab-wheels/public/simple/\n",
            "Requirement already satisfied: scikit-learn==1.2.0 in /usr/local/lib/python3.10/dist-packages (1.2.0)\n",
            "Requirement already satisfied: numpy>=1.17.3 in /usr/local/lib/python3.10/dist-packages (from scikit-learn==1.2.0) (1.21.5)\n",
            "Requirement already satisfied: scipy>=1.3.2 in /usr/local/lib/python3.10/dist-packages (from scikit-learn==1.2.0) (1.10.1)\n",
            "Requirement already satisfied: joblib>=1.1.1 in /usr/local/lib/python3.10/dist-packages (from scikit-learn==1.2.0) (1.2.0)\n",
            "Requirement already satisfied: threadpoolctl>=2.0.0 in /usr/local/lib/python3.10/dist-packages (from scikit-learn==1.2.0) (3.1.0)\n",
            "Looking in indexes: https://pypi.org/simple, https://us-python.pkg.dev/colab-wheels/public/simple/\n",
            "Requirement already satisfied: eli5 in /usr/local/lib/python3.10/dist-packages (0.13.0)\n",
            "Requirement already satisfied: attrs>17.1.0 in /usr/local/lib/python3.10/dist-packages (from eli5) (23.1.0)\n",
            "Requirement already satisfied: jinja2>=3.0.0 in /usr/local/lib/python3.10/dist-packages (from eli5) (3.1.2)\n",
            "Requirement already satisfied: numpy>=1.9.0 in /usr/local/lib/python3.10/dist-packages (from eli5) (1.21.5)\n",
            "Requirement already satisfied: scipy in /usr/local/lib/python3.10/dist-packages (from eli5) (1.10.1)\n",
            "Requirement already satisfied: six in /usr/local/lib/python3.10/dist-packages (from eli5) (1.16.0)\n",
            "Requirement already satisfied: scikit-learn>=0.20 in /usr/local/lib/python3.10/dist-packages (from eli5) (1.2.0)\n",
            "Requirement already satisfied: graphviz in /usr/local/lib/python3.10/dist-packages (from eli5) (0.20.1)\n",
            "Requirement already satisfied: tabulate>=0.7.7 in /usr/local/lib/python3.10/dist-packages (from eli5) (0.8.10)\n",
            "Requirement already satisfied: MarkupSafe>=2.0 in /usr/local/lib/python3.10/dist-packages (from jinja2>=3.0.0->eli5) (2.1.2)\n",
            "Requirement already satisfied: joblib>=1.1.1 in /usr/local/lib/python3.10/dist-packages (from scikit-learn>=0.20->eli5) (1.2.0)\n",
            "Requirement already satisfied: threadpoolctl>=2.0.0 in /usr/local/lib/python3.10/dist-packages (from scikit-learn>=0.20->eli5) (3.1.0)\n",
            "Looking in indexes: https://pypi.org/simple, https://us-python.pkg.dev/colab-wheels/public/simple/\n",
            "Requirement already satisfied: pandas in /usr/local/lib/python3.10/dist-packages (2.0.2)\n",
            "Requirement already satisfied: python-dateutil>=2.8.2 in /usr/local/lib/python3.10/dist-packages (from pandas) (2.8.2)\n",
            "Requirement already satisfied: pytz>=2020.1 in /usr/local/lib/python3.10/dist-packages (from pandas) (2022.7.1)\n",
            "Requirement already satisfied: tzdata>=2022.1 in /usr/local/lib/python3.10/dist-packages (from pandas) (2023.3)\n",
            "Requirement already satisfied: numpy>=1.21.0 in /usr/local/lib/python3.10/dist-packages (from pandas) (1.21.5)\n",
            "Requirement already satisfied: six>=1.5 in /usr/local/lib/python3.10/dist-packages (from python-dateutil>=2.8.2->pandas) (1.16.0)\n",
            "Looking in indexes: https://pypi.org/simple, https://us-python.pkg.dev/colab-wheels/public/simple/\n",
            "Requirement already satisfied: numpy==1.21.5 in /usr/local/lib/python3.10/dist-packages (1.21.5)\n"
          ]
        },
        {
          "output_type": "error",
          "ename": "NameError",
          "evalue": "ignored",
          "traceback": [
            "\u001b[0;31m---------------------------------------------------------------------------\u001b[0m",
            "\u001b[0;31mNameError\u001b[0m                                 Traceback (most recent call last)",
            "\u001b[0;32m<ipython-input-2-92c0bba9bd2d>\u001b[0m in \u001b[0;36m<cell line: 19>\u001b[0;34m()\u001b[0m\n\u001b[1;32m     17\u001b[0m \u001b[0;32mfrom\u001b[0m \u001b[0msklearn\u001b[0m\u001b[0;34m.\u001b[0m\u001b[0mmetrics\u001b[0m \u001b[0;32mimport\u001b[0m \u001b[0mmean_squared_error\u001b[0m\u001b[0;34m\u001b[0m\u001b[0;34m\u001b[0m\u001b[0m\n\u001b[1;32m     18\u001b[0m \u001b[0mpd\u001b[0m\u001b[0;34m.\u001b[0m\u001b[0moptions\u001b[0m\u001b[0;34m.\u001b[0m\u001b[0mplotting\u001b[0m\u001b[0;34m.\u001b[0m\u001b[0mbackend\u001b[0m \u001b[0;34m=\u001b[0m \u001b[0;34m\"plotly\"\u001b[0m\u001b[0;34m\u001b[0m\u001b[0;34m\u001b[0m\u001b[0m\n\u001b[0;32m---> 19\u001b[0;31m \u001b[0mset_config\u001b[0m\u001b[0;34m(\u001b[0m\u001b[0mtransform_output\u001b[0m \u001b[0;34m=\u001b[0m \u001b[0;34m\"pandas\"\u001b[0m\u001b[0;34m)\u001b[0m\u001b[0;34m\u001b[0m\u001b[0;34m\u001b[0m\u001b[0m\n\u001b[0m\u001b[1;32m     20\u001b[0m \u001b[0mset_config\u001b[0m\u001b[0;34m(\u001b[0m\u001b[0mdisplay\u001b[0m\u001b[0;34m=\u001b[0m\u001b[0;34m'diagram'\u001b[0m\u001b[0;34m)\u001b[0m\u001b[0;34m\u001b[0m\u001b[0;34m\u001b[0m\u001b[0m\n",
            "\u001b[0;31mNameError\u001b[0m: name 'set_config' is not defined"
          ]
        }
      ],
      "source": [
        "!pip install -U kaleido\n",
        "!pip install -U xgboost==1.7.2\n",
        "!pip install -U scikit-learn==1.2.0\n",
        "!pip install -U eli5\n",
        "!pip install -U pandas\n",
        "!pip install -U numpy==1.21.5\n",
        "import pandas as pd\n",
        "import numpy as np\n",
        "import matplotlib.pyplot as plt\n",
        "import seaborn as sns\n",
        "import plotly.express as px\n",
        "import plotly.graph_objects as go\n",
        "import gdown\n",
        "from sklearn.ensemble import RandomForestRegressor # for building random forest models\n",
        "from sklearn.preprocessing import StandardScaler # for data preprocessing\n",
        "import matplotlib.pyplot as plt # for data visualization\n",
        "from sklearn.metrics import mean_squared_error\n",
        "pd.options.plotting.backend = \"plotly\"\n",
        "set_config(transform_output = \"pandas\")\n",
        "set_config(display='diagram')"
      ]
    },
    {
      "cell_type": "code",
      "source": [
        "import pandas as pd\n",
        "import numpy as np\n",
        "import matplotlib.pyplot as plt\n",
        "import seaborn as sns\n",
        "import plotly.express as px\n",
        "import plotly.graph_objects as go\n",
        "import gdown"
      ],
      "metadata": {
        "id": "sTx0rO-ydLyM"
      },
      "execution_count": 2,
      "outputs": []
    },
    {
      "cell_type": "code",
      "source": [
        "from google.colab import drive\n",
        "\n",
        "drive.mount('/content/drive')"
      ],
      "metadata": {
        "colab": {
          "base_uri": "https://localhost:8080/"
        },
        "id": "UpLqa6irCk-Z",
        "outputId": "75abf065-0684-4f05-9ef3-34cd1ab6caaf"
      },
      "execution_count": 3,
      "outputs": [
        {
          "output_type": "stream",
          "name": "stdout",
          "text": [
            "Drive already mounted at /content/drive; to attempt to forcibly remount, call drive.mount(\"/content/drive\", force_remount=True).\n"
          ]
        }
      ]
    },
    {
      "cell_type": "code",
      "source": [
        "!pip install astropy"
      ],
      "metadata": {
        "colab": {
          "base_uri": "https://localhost:8080/"
        },
        "id": "mskjndFwC03i",
        "outputId": "908c471d-d307-4fbe-9ce6-26725cd8a855"
      },
      "execution_count": null,
      "outputs": [
        {
          "output_type": "stream",
          "name": "stdout",
          "text": [
            "Looking in indexes: https://pypi.org/simple, https://us-python.pkg.dev/colab-wheels/public/simple/\n",
            "Requirement already satisfied: astropy in /usr/local/lib/python3.10/dist-packages (5.2.2)\n",
            "Requirement already satisfied: numpy>=1.20 in /usr/local/lib/python3.10/dist-packages (from astropy) (1.22.4)\n",
            "Requirement already satisfied: pyerfa>=2.0 in /usr/local/lib/python3.10/dist-packages (from astropy) (2.0.0.3)\n",
            "Requirement already satisfied: PyYAML>=3.13 in /usr/local/lib/python3.10/dist-packages (from astropy) (6.0)\n",
            "Requirement already satisfied: packaging>=19.0 in /usr/local/lib/python3.10/dist-packages (from astropy) (23.1)\n"
          ]
        }
      ]
    },
    {
      "cell_type": "code",
      "source": [
        "import matplotlib.pyplot as plt\n",
        "from astropy.io import fits\n",
        "from astropy.utils.data import download_file"
      ],
      "metadata": {
        "id": "5JrtJ1_zC4l_"
      },
      "execution_count": 4,
      "outputs": []
    },
    {
      "cell_type": "code",
      "source": [
        "df = pd.read_csv('/content/drive/MyDrive/spaceship data1/sample_submission.csv')"
      ],
      "metadata": {
        "id": "w6LJMn39DBfq"
      },
      "execution_count": 5,
      "outputs": []
    },
    {
      "cell_type": "code",
      "source": [
        "df.head()"
      ],
      "metadata": {
        "colab": {
          "base_uri": "https://localhost:8080/",
          "height": 206
        },
        "id": "dnXTaOM0Elqa",
        "outputId": "b480506c-e07e-4d0d-bf64-c2226e74884e"
      },
      "execution_count": 6,
      "outputs": [
        {
          "output_type": "execute_result",
          "data": {
            "text/plain": [
              "  PassengerId  Transported\n",
              "0     0013_01        False\n",
              "1     0018_01        False\n",
              "2     0019_01        False\n",
              "3     0021_01        False\n",
              "4     0023_01        False"
            ],
            "text/html": [
              "\n",
              "  <div id=\"df-7a92301e-9df3-4e65-9e18-4bdec47fcceb\">\n",
              "    <div class=\"colab-df-container\">\n",
              "      <div>\n",
              "<style scoped>\n",
              "    .dataframe tbody tr th:only-of-type {\n",
              "        vertical-align: middle;\n",
              "    }\n",
              "\n",
              "    .dataframe tbody tr th {\n",
              "        vertical-align: top;\n",
              "    }\n",
              "\n",
              "    .dataframe thead th {\n",
              "        text-align: right;\n",
              "    }\n",
              "</style>\n",
              "<table border=\"1\" class=\"dataframe\">\n",
              "  <thead>\n",
              "    <tr style=\"text-align: right;\">\n",
              "      <th></th>\n",
              "      <th>PassengerId</th>\n",
              "      <th>Transported</th>\n",
              "    </tr>\n",
              "  </thead>\n",
              "  <tbody>\n",
              "    <tr>\n",
              "      <th>0</th>\n",
              "      <td>0013_01</td>\n",
              "      <td>False</td>\n",
              "    </tr>\n",
              "    <tr>\n",
              "      <th>1</th>\n",
              "      <td>0018_01</td>\n",
              "      <td>False</td>\n",
              "    </tr>\n",
              "    <tr>\n",
              "      <th>2</th>\n",
              "      <td>0019_01</td>\n",
              "      <td>False</td>\n",
              "    </tr>\n",
              "    <tr>\n",
              "      <th>3</th>\n",
              "      <td>0021_01</td>\n",
              "      <td>False</td>\n",
              "    </tr>\n",
              "    <tr>\n",
              "      <th>4</th>\n",
              "      <td>0023_01</td>\n",
              "      <td>False</td>\n",
              "    </tr>\n",
              "  </tbody>\n",
              "</table>\n",
              "</div>\n",
              "      <button class=\"colab-df-convert\" onclick=\"convertToInteractive('df-7a92301e-9df3-4e65-9e18-4bdec47fcceb')\"\n",
              "              title=\"Convert this dataframe to an interactive table.\"\n",
              "              style=\"display:none;\">\n",
              "        \n",
              "  <svg xmlns=\"http://www.w3.org/2000/svg\" height=\"24px\"viewBox=\"0 0 24 24\"\n",
              "       width=\"24px\">\n",
              "    <path d=\"M0 0h24v24H0V0z\" fill=\"none\"/>\n",
              "    <path d=\"M18.56 5.44l.94 2.06.94-2.06 2.06-.94-2.06-.94-.94-2.06-.94 2.06-2.06.94zm-11 1L8.5 8.5l.94-2.06 2.06-.94-2.06-.94L8.5 2.5l-.94 2.06-2.06.94zm10 10l.94 2.06.94-2.06 2.06-.94-2.06-.94-.94-2.06-.94 2.06-2.06.94z\"/><path d=\"M17.41 7.96l-1.37-1.37c-.4-.4-.92-.59-1.43-.59-.52 0-1.04.2-1.43.59L10.3 9.45l-7.72 7.72c-.78.78-.78 2.05 0 2.83L4 21.41c.39.39.9.59 1.41.59.51 0 1.02-.2 1.41-.59l7.78-7.78 2.81-2.81c.8-.78.8-2.07 0-2.86zM5.41 20L4 18.59l7.72-7.72 1.47 1.35L5.41 20z\"/>\n",
              "  </svg>\n",
              "      </button>\n",
              "      \n",
              "  <style>\n",
              "    .colab-df-container {\n",
              "      display:flex;\n",
              "      flex-wrap:wrap;\n",
              "      gap: 12px;\n",
              "    }\n",
              "\n",
              "    .colab-df-convert {\n",
              "      background-color: #E8F0FE;\n",
              "      border: none;\n",
              "      border-radius: 50%;\n",
              "      cursor: pointer;\n",
              "      display: none;\n",
              "      fill: #1967D2;\n",
              "      height: 32px;\n",
              "      padding: 0 0 0 0;\n",
              "      width: 32px;\n",
              "    }\n",
              "\n",
              "    .colab-df-convert:hover {\n",
              "      background-color: #E2EBFA;\n",
              "      box-shadow: 0px 1px 2px rgba(60, 64, 67, 0.3), 0px 1px 3px 1px rgba(60, 64, 67, 0.15);\n",
              "      fill: #174EA6;\n",
              "    }\n",
              "\n",
              "    [theme=dark] .colab-df-convert {\n",
              "      background-color: #3B4455;\n",
              "      fill: #D2E3FC;\n",
              "    }\n",
              "\n",
              "    [theme=dark] .colab-df-convert:hover {\n",
              "      background-color: #434B5C;\n",
              "      box-shadow: 0px 1px 3px 1px rgba(0, 0, 0, 0.15);\n",
              "      filter: drop-shadow(0px 1px 2px rgba(0, 0, 0, 0.3));\n",
              "      fill: #FFFFFF;\n",
              "    }\n",
              "  </style>\n",
              "\n",
              "      <script>\n",
              "        const buttonEl =\n",
              "          document.querySelector('#df-7a92301e-9df3-4e65-9e18-4bdec47fcceb button.colab-df-convert');\n",
              "        buttonEl.style.display =\n",
              "          google.colab.kernel.accessAllowed ? 'block' : 'none';\n",
              "\n",
              "        async function convertToInteractive(key) {\n",
              "          const element = document.querySelector('#df-7a92301e-9df3-4e65-9e18-4bdec47fcceb');\n",
              "          const dataTable =\n",
              "            await google.colab.kernel.invokeFunction('convertToInteractive',\n",
              "                                                     [key], {});\n",
              "          if (!dataTable) return;\n",
              "\n",
              "          const docLinkHtml = 'Like what you see? Visit the ' +\n",
              "            '<a target=\"_blank\" href=https://colab.research.google.com/notebooks/data_table.ipynb>data table notebook</a>'\n",
              "            + ' to learn more about interactive tables.';\n",
              "          element.innerHTML = '';\n",
              "          dataTable['output_type'] = 'display_data';\n",
              "          await google.colab.output.renderOutput(dataTable, element);\n",
              "          const docLink = document.createElement('div');\n",
              "          docLink.innerHTML = docLinkHtml;\n",
              "          element.appendChild(docLink);\n",
              "        }\n",
              "      </script>\n",
              "    </div>\n",
              "  </div>\n",
              "  "
            ]
          },
          "metadata": {},
          "execution_count": 6
        }
      ]
    },
    {
      "cell_type": "code",
      "source": [
        "from google.colab import output\n",
        "output.enable_custom_widget_manager()"
      ],
      "metadata": {
        "id": "J-RXZjAOFXSF"
      },
      "execution_count": 7,
      "outputs": []
    },
    {
      "cell_type": "code",
      "source": [
        "# Load the data\n",
        "train_data = pd.read_csv(\"/content/drive/MyDrive/spaceship data1/train.csv\") # load training data\n",
        "test_data = pd.read_csv(\"/content/drive/MyDrive/spaceship data1/test.csv\") # load test data"
      ],
      "metadata": {
        "id": "tNwNXdbKFZLq"
      },
      "execution_count": 8,
      "outputs": []
    },
    {
      "cell_type": "code",
      "source": [],
      "metadata": {
        "id": "wmB8G6PgYejV"
      },
      "execution_count": null,
      "outputs": []
    },
    {
      "cell_type": "code",
      "source": [
        "train_data.head()"
      ],
      "metadata": {
        "colab": {
          "base_uri": "https://localhost:8080/",
          "height": 206
        },
        "id": "EOzhPDL4F1Ok",
        "outputId": "935aab09-4d4c-4c82-b3ce-457693faa175"
      },
      "execution_count": 9,
      "outputs": [
        {
          "output_type": "execute_result",
          "data": {
            "text/plain": [
              "  PassengerId HomePlanet CryoSleep  Cabin  Destination   Age    VIP  \\\n",
              "0     0001_01     Europa     False  B/0/P  TRAPPIST-1e  39.0  False   \n",
              "1     0002_01      Earth     False  F/0/S  TRAPPIST-1e  24.0  False   \n",
              "2     0003_01     Europa     False  A/0/S  TRAPPIST-1e  58.0   True   \n",
              "3     0003_02     Europa     False  A/0/S  TRAPPIST-1e  33.0  False   \n",
              "4     0004_01      Earth     False  F/1/S  TRAPPIST-1e  16.0  False   \n",
              "\n",
              "   RoomService  FoodCourt  ShoppingMall     Spa  VRDeck               Name  \\\n",
              "0          0.0        0.0           0.0     0.0     0.0    Maham Ofracculy   \n",
              "1        109.0        9.0          25.0   549.0    44.0       Juanna Vines   \n",
              "2         43.0     3576.0           0.0  6715.0    49.0      Altark Susent   \n",
              "3          0.0     1283.0         371.0  3329.0   193.0       Solam Susent   \n",
              "4        303.0       70.0         151.0   565.0     2.0  Willy Santantines   \n",
              "\n",
              "   Transported  \n",
              "0        False  \n",
              "1         True  \n",
              "2        False  \n",
              "3        False  \n",
              "4         True  "
            ],
            "text/html": [
              "\n",
              "  <div id=\"df-33f4047e-c160-462d-8d0c-c0bad99fc99c\">\n",
              "    <div class=\"colab-df-container\">\n",
              "      <div>\n",
              "<style scoped>\n",
              "    .dataframe tbody tr th:only-of-type {\n",
              "        vertical-align: middle;\n",
              "    }\n",
              "\n",
              "    .dataframe tbody tr th {\n",
              "        vertical-align: top;\n",
              "    }\n",
              "\n",
              "    .dataframe thead th {\n",
              "        text-align: right;\n",
              "    }\n",
              "</style>\n",
              "<table border=\"1\" class=\"dataframe\">\n",
              "  <thead>\n",
              "    <tr style=\"text-align: right;\">\n",
              "      <th></th>\n",
              "      <th>PassengerId</th>\n",
              "      <th>HomePlanet</th>\n",
              "      <th>CryoSleep</th>\n",
              "      <th>Cabin</th>\n",
              "      <th>Destination</th>\n",
              "      <th>Age</th>\n",
              "      <th>VIP</th>\n",
              "      <th>RoomService</th>\n",
              "      <th>FoodCourt</th>\n",
              "      <th>ShoppingMall</th>\n",
              "      <th>Spa</th>\n",
              "      <th>VRDeck</th>\n",
              "      <th>Name</th>\n",
              "      <th>Transported</th>\n",
              "    </tr>\n",
              "  </thead>\n",
              "  <tbody>\n",
              "    <tr>\n",
              "      <th>0</th>\n",
              "      <td>0001_01</td>\n",
              "      <td>Europa</td>\n",
              "      <td>False</td>\n",
              "      <td>B/0/P</td>\n",
              "      <td>TRAPPIST-1e</td>\n",
              "      <td>39.0</td>\n",
              "      <td>False</td>\n",
              "      <td>0.0</td>\n",
              "      <td>0.0</td>\n",
              "      <td>0.0</td>\n",
              "      <td>0.0</td>\n",
              "      <td>0.0</td>\n",
              "      <td>Maham Ofracculy</td>\n",
              "      <td>False</td>\n",
              "    </tr>\n",
              "    <tr>\n",
              "      <th>1</th>\n",
              "      <td>0002_01</td>\n",
              "      <td>Earth</td>\n",
              "      <td>False</td>\n",
              "      <td>F/0/S</td>\n",
              "      <td>TRAPPIST-1e</td>\n",
              "      <td>24.0</td>\n",
              "      <td>False</td>\n",
              "      <td>109.0</td>\n",
              "      <td>9.0</td>\n",
              "      <td>25.0</td>\n",
              "      <td>549.0</td>\n",
              "      <td>44.0</td>\n",
              "      <td>Juanna Vines</td>\n",
              "      <td>True</td>\n",
              "    </tr>\n",
              "    <tr>\n",
              "      <th>2</th>\n",
              "      <td>0003_01</td>\n",
              "      <td>Europa</td>\n",
              "      <td>False</td>\n",
              "      <td>A/0/S</td>\n",
              "      <td>TRAPPIST-1e</td>\n",
              "      <td>58.0</td>\n",
              "      <td>True</td>\n",
              "      <td>43.0</td>\n",
              "      <td>3576.0</td>\n",
              "      <td>0.0</td>\n",
              "      <td>6715.0</td>\n",
              "      <td>49.0</td>\n",
              "      <td>Altark Susent</td>\n",
              "      <td>False</td>\n",
              "    </tr>\n",
              "    <tr>\n",
              "      <th>3</th>\n",
              "      <td>0003_02</td>\n",
              "      <td>Europa</td>\n",
              "      <td>False</td>\n",
              "      <td>A/0/S</td>\n",
              "      <td>TRAPPIST-1e</td>\n",
              "      <td>33.0</td>\n",
              "      <td>False</td>\n",
              "      <td>0.0</td>\n",
              "      <td>1283.0</td>\n",
              "      <td>371.0</td>\n",
              "      <td>3329.0</td>\n",
              "      <td>193.0</td>\n",
              "      <td>Solam Susent</td>\n",
              "      <td>False</td>\n",
              "    </tr>\n",
              "    <tr>\n",
              "      <th>4</th>\n",
              "      <td>0004_01</td>\n",
              "      <td>Earth</td>\n",
              "      <td>False</td>\n",
              "      <td>F/1/S</td>\n",
              "      <td>TRAPPIST-1e</td>\n",
              "      <td>16.0</td>\n",
              "      <td>False</td>\n",
              "      <td>303.0</td>\n",
              "      <td>70.0</td>\n",
              "      <td>151.0</td>\n",
              "      <td>565.0</td>\n",
              "      <td>2.0</td>\n",
              "      <td>Willy Santantines</td>\n",
              "      <td>True</td>\n",
              "    </tr>\n",
              "  </tbody>\n",
              "</table>\n",
              "</div>\n",
              "      <button class=\"colab-df-convert\" onclick=\"convertToInteractive('df-33f4047e-c160-462d-8d0c-c0bad99fc99c')\"\n",
              "              title=\"Convert this dataframe to an interactive table.\"\n",
              "              style=\"display:none;\">\n",
              "        \n",
              "  <svg xmlns=\"http://www.w3.org/2000/svg\" height=\"24px\"viewBox=\"0 0 24 24\"\n",
              "       width=\"24px\">\n",
              "    <path d=\"M0 0h24v24H0V0z\" fill=\"none\"/>\n",
              "    <path d=\"M18.56 5.44l.94 2.06.94-2.06 2.06-.94-2.06-.94-.94-2.06-.94 2.06-2.06.94zm-11 1L8.5 8.5l.94-2.06 2.06-.94-2.06-.94L8.5 2.5l-.94 2.06-2.06.94zm10 10l.94 2.06.94-2.06 2.06-.94-2.06-.94-.94-2.06-.94 2.06-2.06.94z\"/><path d=\"M17.41 7.96l-1.37-1.37c-.4-.4-.92-.59-1.43-.59-.52 0-1.04.2-1.43.59L10.3 9.45l-7.72 7.72c-.78.78-.78 2.05 0 2.83L4 21.41c.39.39.9.59 1.41.59.51 0 1.02-.2 1.41-.59l7.78-7.78 2.81-2.81c.8-.78.8-2.07 0-2.86zM5.41 20L4 18.59l7.72-7.72 1.47 1.35L5.41 20z\"/>\n",
              "  </svg>\n",
              "      </button>\n",
              "      \n",
              "  <style>\n",
              "    .colab-df-container {\n",
              "      display:flex;\n",
              "      flex-wrap:wrap;\n",
              "      gap: 12px;\n",
              "    }\n",
              "\n",
              "    .colab-df-convert {\n",
              "      background-color: #E8F0FE;\n",
              "      border: none;\n",
              "      border-radius: 50%;\n",
              "      cursor: pointer;\n",
              "      display: none;\n",
              "      fill: #1967D2;\n",
              "      height: 32px;\n",
              "      padding: 0 0 0 0;\n",
              "      width: 32px;\n",
              "    }\n",
              "\n",
              "    .colab-df-convert:hover {\n",
              "      background-color: #E2EBFA;\n",
              "      box-shadow: 0px 1px 2px rgba(60, 64, 67, 0.3), 0px 1px 3px 1px rgba(60, 64, 67, 0.15);\n",
              "      fill: #174EA6;\n",
              "    }\n",
              "\n",
              "    [theme=dark] .colab-df-convert {\n",
              "      background-color: #3B4455;\n",
              "      fill: #D2E3FC;\n",
              "    }\n",
              "\n",
              "    [theme=dark] .colab-df-convert:hover {\n",
              "      background-color: #434B5C;\n",
              "      box-shadow: 0px 1px 3px 1px rgba(0, 0, 0, 0.15);\n",
              "      filter: drop-shadow(0px 1px 2px rgba(0, 0, 0, 0.3));\n",
              "      fill: #FFFFFF;\n",
              "    }\n",
              "  </style>\n",
              "\n",
              "      <script>\n",
              "        const buttonEl =\n",
              "          document.querySelector('#df-33f4047e-c160-462d-8d0c-c0bad99fc99c button.colab-df-convert');\n",
              "        buttonEl.style.display =\n",
              "          google.colab.kernel.accessAllowed ? 'block' : 'none';\n",
              "\n",
              "        async function convertToInteractive(key) {\n",
              "          const element = document.querySelector('#df-33f4047e-c160-462d-8d0c-c0bad99fc99c');\n",
              "          const dataTable =\n",
              "            await google.colab.kernel.invokeFunction('convertToInteractive',\n",
              "                                                     [key], {});\n",
              "          if (!dataTable) return;\n",
              "\n",
              "          const docLinkHtml = 'Like what you see? Visit the ' +\n",
              "            '<a target=\"_blank\" href=https://colab.research.google.com/notebooks/data_table.ipynb>data table notebook</a>'\n",
              "            + ' to learn more about interactive tables.';\n",
              "          element.innerHTML = '';\n",
              "          dataTable['output_type'] = 'display_data';\n",
              "          await google.colab.output.renderOutput(dataTable, element);\n",
              "          const docLink = document.createElement('div');\n",
              "          docLink.innerHTML = docLinkHtml;\n",
              "          element.appendChild(docLink);\n",
              "        }\n",
              "      </script>\n",
              "    </div>\n",
              "  </div>\n",
              "  "
            ]
          },
          "metadata": {},
          "execution_count": 9
        }
      ]
    },
    {
      "cell_type": "code",
      "source": [
        "test_data.head()"
      ],
      "metadata": {
        "colab": {
          "base_uri": "https://localhost:8080/",
          "height": 206
        },
        "id": "DhKpNURjF4rQ",
        "outputId": "d3d18865-b4ca-4922-9095-8b1537918690"
      },
      "execution_count": 10,
      "outputs": [
        {
          "output_type": "execute_result",
          "data": {
            "text/plain": [
              "  PassengerId HomePlanet CryoSleep  Cabin  Destination   Age    VIP  \\\n",
              "0     0013_01      Earth      True  G/3/S  TRAPPIST-1e  27.0  False   \n",
              "1     0018_01      Earth     False  F/4/S  TRAPPIST-1e  19.0  False   \n",
              "2     0019_01     Europa      True  C/0/S  55 Cancri e  31.0  False   \n",
              "3     0021_01     Europa     False  C/1/S  TRAPPIST-1e  38.0  False   \n",
              "4     0023_01      Earth     False  F/5/S  TRAPPIST-1e  20.0  False   \n",
              "\n",
              "   RoomService  FoodCourt  ShoppingMall     Spa  VRDeck              Name  \n",
              "0          0.0        0.0           0.0     0.0     0.0   Nelly Carsoning  \n",
              "1          0.0        9.0           0.0  2823.0     0.0    Lerome Peckers  \n",
              "2          0.0        0.0           0.0     0.0     0.0   Sabih Unhearfus  \n",
              "3          0.0     6652.0           0.0   181.0   585.0  Meratz Caltilter  \n",
              "4         10.0        0.0         635.0     0.0     0.0   Brence Harperez  "
            ],
            "text/html": [
              "\n",
              "  <div id=\"df-9db8d5de-358b-45f5-a0cb-29ba49747569\">\n",
              "    <div class=\"colab-df-container\">\n",
              "      <div>\n",
              "<style scoped>\n",
              "    .dataframe tbody tr th:only-of-type {\n",
              "        vertical-align: middle;\n",
              "    }\n",
              "\n",
              "    .dataframe tbody tr th {\n",
              "        vertical-align: top;\n",
              "    }\n",
              "\n",
              "    .dataframe thead th {\n",
              "        text-align: right;\n",
              "    }\n",
              "</style>\n",
              "<table border=\"1\" class=\"dataframe\">\n",
              "  <thead>\n",
              "    <tr style=\"text-align: right;\">\n",
              "      <th></th>\n",
              "      <th>PassengerId</th>\n",
              "      <th>HomePlanet</th>\n",
              "      <th>CryoSleep</th>\n",
              "      <th>Cabin</th>\n",
              "      <th>Destination</th>\n",
              "      <th>Age</th>\n",
              "      <th>VIP</th>\n",
              "      <th>RoomService</th>\n",
              "      <th>FoodCourt</th>\n",
              "      <th>ShoppingMall</th>\n",
              "      <th>Spa</th>\n",
              "      <th>VRDeck</th>\n",
              "      <th>Name</th>\n",
              "    </tr>\n",
              "  </thead>\n",
              "  <tbody>\n",
              "    <tr>\n",
              "      <th>0</th>\n",
              "      <td>0013_01</td>\n",
              "      <td>Earth</td>\n",
              "      <td>True</td>\n",
              "      <td>G/3/S</td>\n",
              "      <td>TRAPPIST-1e</td>\n",
              "      <td>27.0</td>\n",
              "      <td>False</td>\n",
              "      <td>0.0</td>\n",
              "      <td>0.0</td>\n",
              "      <td>0.0</td>\n",
              "      <td>0.0</td>\n",
              "      <td>0.0</td>\n",
              "      <td>Nelly Carsoning</td>\n",
              "    </tr>\n",
              "    <tr>\n",
              "      <th>1</th>\n",
              "      <td>0018_01</td>\n",
              "      <td>Earth</td>\n",
              "      <td>False</td>\n",
              "      <td>F/4/S</td>\n",
              "      <td>TRAPPIST-1e</td>\n",
              "      <td>19.0</td>\n",
              "      <td>False</td>\n",
              "      <td>0.0</td>\n",
              "      <td>9.0</td>\n",
              "      <td>0.0</td>\n",
              "      <td>2823.0</td>\n",
              "      <td>0.0</td>\n",
              "      <td>Lerome Peckers</td>\n",
              "    </tr>\n",
              "    <tr>\n",
              "      <th>2</th>\n",
              "      <td>0019_01</td>\n",
              "      <td>Europa</td>\n",
              "      <td>True</td>\n",
              "      <td>C/0/S</td>\n",
              "      <td>55 Cancri e</td>\n",
              "      <td>31.0</td>\n",
              "      <td>False</td>\n",
              "      <td>0.0</td>\n",
              "      <td>0.0</td>\n",
              "      <td>0.0</td>\n",
              "      <td>0.0</td>\n",
              "      <td>0.0</td>\n",
              "      <td>Sabih Unhearfus</td>\n",
              "    </tr>\n",
              "    <tr>\n",
              "      <th>3</th>\n",
              "      <td>0021_01</td>\n",
              "      <td>Europa</td>\n",
              "      <td>False</td>\n",
              "      <td>C/1/S</td>\n",
              "      <td>TRAPPIST-1e</td>\n",
              "      <td>38.0</td>\n",
              "      <td>False</td>\n",
              "      <td>0.0</td>\n",
              "      <td>6652.0</td>\n",
              "      <td>0.0</td>\n",
              "      <td>181.0</td>\n",
              "      <td>585.0</td>\n",
              "      <td>Meratz Caltilter</td>\n",
              "    </tr>\n",
              "    <tr>\n",
              "      <th>4</th>\n",
              "      <td>0023_01</td>\n",
              "      <td>Earth</td>\n",
              "      <td>False</td>\n",
              "      <td>F/5/S</td>\n",
              "      <td>TRAPPIST-1e</td>\n",
              "      <td>20.0</td>\n",
              "      <td>False</td>\n",
              "      <td>10.0</td>\n",
              "      <td>0.0</td>\n",
              "      <td>635.0</td>\n",
              "      <td>0.0</td>\n",
              "      <td>0.0</td>\n",
              "      <td>Brence Harperez</td>\n",
              "    </tr>\n",
              "  </tbody>\n",
              "</table>\n",
              "</div>\n",
              "      <button class=\"colab-df-convert\" onclick=\"convertToInteractive('df-9db8d5de-358b-45f5-a0cb-29ba49747569')\"\n",
              "              title=\"Convert this dataframe to an interactive table.\"\n",
              "              style=\"display:none;\">\n",
              "        \n",
              "  <svg xmlns=\"http://www.w3.org/2000/svg\" height=\"24px\"viewBox=\"0 0 24 24\"\n",
              "       width=\"24px\">\n",
              "    <path d=\"M0 0h24v24H0V0z\" fill=\"none\"/>\n",
              "    <path d=\"M18.56 5.44l.94 2.06.94-2.06 2.06-.94-2.06-.94-.94-2.06-.94 2.06-2.06.94zm-11 1L8.5 8.5l.94-2.06 2.06-.94-2.06-.94L8.5 2.5l-.94 2.06-2.06.94zm10 10l.94 2.06.94-2.06 2.06-.94-2.06-.94-.94-2.06-.94 2.06-2.06.94z\"/><path d=\"M17.41 7.96l-1.37-1.37c-.4-.4-.92-.59-1.43-.59-.52 0-1.04.2-1.43.59L10.3 9.45l-7.72 7.72c-.78.78-.78 2.05 0 2.83L4 21.41c.39.39.9.59 1.41.59.51 0 1.02-.2 1.41-.59l7.78-7.78 2.81-2.81c.8-.78.8-2.07 0-2.86zM5.41 20L4 18.59l7.72-7.72 1.47 1.35L5.41 20z\"/>\n",
              "  </svg>\n",
              "      </button>\n",
              "      \n",
              "  <style>\n",
              "    .colab-df-container {\n",
              "      display:flex;\n",
              "      flex-wrap:wrap;\n",
              "      gap: 12px;\n",
              "    }\n",
              "\n",
              "    .colab-df-convert {\n",
              "      background-color: #E8F0FE;\n",
              "      border: none;\n",
              "      border-radius: 50%;\n",
              "      cursor: pointer;\n",
              "      display: none;\n",
              "      fill: #1967D2;\n",
              "      height: 32px;\n",
              "      padding: 0 0 0 0;\n",
              "      width: 32px;\n",
              "    }\n",
              "\n",
              "    .colab-df-convert:hover {\n",
              "      background-color: #E2EBFA;\n",
              "      box-shadow: 0px 1px 2px rgba(60, 64, 67, 0.3), 0px 1px 3px 1px rgba(60, 64, 67, 0.15);\n",
              "      fill: #174EA6;\n",
              "    }\n",
              "\n",
              "    [theme=dark] .colab-df-convert {\n",
              "      background-color: #3B4455;\n",
              "      fill: #D2E3FC;\n",
              "    }\n",
              "\n",
              "    [theme=dark] .colab-df-convert:hover {\n",
              "      background-color: #434B5C;\n",
              "      box-shadow: 0px 1px 3px 1px rgba(0, 0, 0, 0.15);\n",
              "      filter: drop-shadow(0px 1px 2px rgba(0, 0, 0, 0.3));\n",
              "      fill: #FFFFFF;\n",
              "    }\n",
              "  </style>\n",
              "\n",
              "      <script>\n",
              "        const buttonEl =\n",
              "          document.querySelector('#df-9db8d5de-358b-45f5-a0cb-29ba49747569 button.colab-df-convert');\n",
              "        buttonEl.style.display =\n",
              "          google.colab.kernel.accessAllowed ? 'block' : 'none';\n",
              "\n",
              "        async function convertToInteractive(key) {\n",
              "          const element = document.querySelector('#df-9db8d5de-358b-45f5-a0cb-29ba49747569');\n",
              "          const dataTable =\n",
              "            await google.colab.kernel.invokeFunction('convertToInteractive',\n",
              "                                                     [key], {});\n",
              "          if (!dataTable) return;\n",
              "\n",
              "          const docLinkHtml = 'Like what you see? Visit the ' +\n",
              "            '<a target=\"_blank\" href=https://colab.research.google.com/notebooks/data_table.ipynb>data table notebook</a>'\n",
              "            + ' to learn more about interactive tables.';\n",
              "          element.innerHTML = '';\n",
              "          dataTable['output_type'] = 'display_data';\n",
              "          await google.colab.output.renderOutput(dataTable, element);\n",
              "          const docLink = document.createElement('div');\n",
              "          docLink.innerHTML = docLinkHtml;\n",
              "          element.appendChild(docLink);\n",
              "        }\n",
              "      </script>\n",
              "    </div>\n",
              "  </div>\n",
              "  "
            ]
          },
          "metadata": {},
          "execution_count": 10
        }
      ]
    },
    {
      "cell_type": "code",
      "source": [
        "df.info"
      ],
      "metadata": {
        "colab": {
          "base_uri": "https://localhost:8080/"
        },
        "id": "_ZUlHlT_TPFG",
        "outputId": "401589f8-f910-4967-af7c-f122a366151b"
      },
      "execution_count": 11,
      "outputs": [
        {
          "output_type": "execute_result",
          "data": {
            "text/plain": [
              "<bound method DataFrame.info of      PassengerId  Transported\n",
              "0        0013_01        False\n",
              "1        0018_01        False\n",
              "2        0019_01        False\n",
              "3        0021_01        False\n",
              "4        0023_01        False\n",
              "...          ...          ...\n",
              "4272     9266_02        False\n",
              "4273     9269_01        False\n",
              "4274     9271_01        False\n",
              "4275     9273_01        False\n",
              "4276     9277_01        False\n",
              "\n",
              "[4277 rows x 2 columns]>"
            ]
          },
          "metadata": {},
          "execution_count": 11
        }
      ]
    },
    {
      "cell_type": "code",
      "source": [
        "df.describe()"
      ],
      "metadata": {
        "colab": {
          "base_uri": "https://localhost:8080/",
          "height": 175
        },
        "id": "ld9cKU4NT6Ko",
        "outputId": "a44e7a6d-b290-4c2b-ee4a-e3127aad9d6a"
      },
      "execution_count": 12,
      "outputs": [
        {
          "output_type": "execute_result",
          "data": {
            "text/plain": [
              "       PassengerId Transported\n",
              "count         4277        4277\n",
              "unique        4277           1\n",
              "top        0013_01       False\n",
              "freq             1        4277"
            ],
            "text/html": [
              "\n",
              "  <div id=\"df-b4514988-0570-422a-a724-3b668fe57f81\">\n",
              "    <div class=\"colab-df-container\">\n",
              "      <div>\n",
              "<style scoped>\n",
              "    .dataframe tbody tr th:only-of-type {\n",
              "        vertical-align: middle;\n",
              "    }\n",
              "\n",
              "    .dataframe tbody tr th {\n",
              "        vertical-align: top;\n",
              "    }\n",
              "\n",
              "    .dataframe thead th {\n",
              "        text-align: right;\n",
              "    }\n",
              "</style>\n",
              "<table border=\"1\" class=\"dataframe\">\n",
              "  <thead>\n",
              "    <tr style=\"text-align: right;\">\n",
              "      <th></th>\n",
              "      <th>PassengerId</th>\n",
              "      <th>Transported</th>\n",
              "    </tr>\n",
              "  </thead>\n",
              "  <tbody>\n",
              "    <tr>\n",
              "      <th>count</th>\n",
              "      <td>4277</td>\n",
              "      <td>4277</td>\n",
              "    </tr>\n",
              "    <tr>\n",
              "      <th>unique</th>\n",
              "      <td>4277</td>\n",
              "      <td>1</td>\n",
              "    </tr>\n",
              "    <tr>\n",
              "      <th>top</th>\n",
              "      <td>0013_01</td>\n",
              "      <td>False</td>\n",
              "    </tr>\n",
              "    <tr>\n",
              "      <th>freq</th>\n",
              "      <td>1</td>\n",
              "      <td>4277</td>\n",
              "    </tr>\n",
              "  </tbody>\n",
              "</table>\n",
              "</div>\n",
              "      <button class=\"colab-df-convert\" onclick=\"convertToInteractive('df-b4514988-0570-422a-a724-3b668fe57f81')\"\n",
              "              title=\"Convert this dataframe to an interactive table.\"\n",
              "              style=\"display:none;\">\n",
              "        \n",
              "  <svg xmlns=\"http://www.w3.org/2000/svg\" height=\"24px\"viewBox=\"0 0 24 24\"\n",
              "       width=\"24px\">\n",
              "    <path d=\"M0 0h24v24H0V0z\" fill=\"none\"/>\n",
              "    <path d=\"M18.56 5.44l.94 2.06.94-2.06 2.06-.94-2.06-.94-.94-2.06-.94 2.06-2.06.94zm-11 1L8.5 8.5l.94-2.06 2.06-.94-2.06-.94L8.5 2.5l-.94 2.06-2.06.94zm10 10l.94 2.06.94-2.06 2.06-.94-2.06-.94-.94-2.06-.94 2.06-2.06.94z\"/><path d=\"M17.41 7.96l-1.37-1.37c-.4-.4-.92-.59-1.43-.59-.52 0-1.04.2-1.43.59L10.3 9.45l-7.72 7.72c-.78.78-.78 2.05 0 2.83L4 21.41c.39.39.9.59 1.41.59.51 0 1.02-.2 1.41-.59l7.78-7.78 2.81-2.81c.8-.78.8-2.07 0-2.86zM5.41 20L4 18.59l7.72-7.72 1.47 1.35L5.41 20z\"/>\n",
              "  </svg>\n",
              "      </button>\n",
              "      \n",
              "  <style>\n",
              "    .colab-df-container {\n",
              "      display:flex;\n",
              "      flex-wrap:wrap;\n",
              "      gap: 12px;\n",
              "    }\n",
              "\n",
              "    .colab-df-convert {\n",
              "      background-color: #E8F0FE;\n",
              "      border: none;\n",
              "      border-radius: 50%;\n",
              "      cursor: pointer;\n",
              "      display: none;\n",
              "      fill: #1967D2;\n",
              "      height: 32px;\n",
              "      padding: 0 0 0 0;\n",
              "      width: 32px;\n",
              "    }\n",
              "\n",
              "    .colab-df-convert:hover {\n",
              "      background-color: #E2EBFA;\n",
              "      box-shadow: 0px 1px 2px rgba(60, 64, 67, 0.3), 0px 1px 3px 1px rgba(60, 64, 67, 0.15);\n",
              "      fill: #174EA6;\n",
              "    }\n",
              "\n",
              "    [theme=dark] .colab-df-convert {\n",
              "      background-color: #3B4455;\n",
              "      fill: #D2E3FC;\n",
              "    }\n",
              "\n",
              "    [theme=dark] .colab-df-convert:hover {\n",
              "      background-color: #434B5C;\n",
              "      box-shadow: 0px 1px 3px 1px rgba(0, 0, 0, 0.15);\n",
              "      filter: drop-shadow(0px 1px 2px rgba(0, 0, 0, 0.3));\n",
              "      fill: #FFFFFF;\n",
              "    }\n",
              "  </style>\n",
              "\n",
              "      <script>\n",
              "        const buttonEl =\n",
              "          document.querySelector('#df-b4514988-0570-422a-a724-3b668fe57f81 button.colab-df-convert');\n",
              "        buttonEl.style.display =\n",
              "          google.colab.kernel.accessAllowed ? 'block' : 'none';\n",
              "\n",
              "        async function convertToInteractive(key) {\n",
              "          const element = document.querySelector('#df-b4514988-0570-422a-a724-3b668fe57f81');\n",
              "          const dataTable =\n",
              "            await google.colab.kernel.invokeFunction('convertToInteractive',\n",
              "                                                     [key], {});\n",
              "          if (!dataTable) return;\n",
              "\n",
              "          const docLinkHtml = 'Like what you see? Visit the ' +\n",
              "            '<a target=\"_blank\" href=https://colab.research.google.com/notebooks/data_table.ipynb>data table notebook</a>'\n",
              "            + ' to learn more about interactive tables.';\n",
              "          element.innerHTML = '';\n",
              "          dataTable['output_type'] = 'display_data';\n",
              "          await google.colab.output.renderOutput(dataTable, element);\n",
              "          const docLink = document.createElement('div');\n",
              "          docLink.innerHTML = docLinkHtml;\n",
              "          element.appendChild(docLink);\n",
              "        }\n",
              "      </script>\n",
              "    </div>\n",
              "  </div>\n",
              "  "
            ]
          },
          "metadata": {},
          "execution_count": 12
        }
      ]
    },
    {
      "cell_type": "code",
      "source": [
        "df.isnull().sum().plot.bar()\n",
        "plt.show()"
      ],
      "metadata": {
        "colab": {
          "base_uri": "https://localhost:8080/",
          "height": 500
        },
        "id": "701ZJZuLUBxo",
        "outputId": "d6571627-08a4-47c9-a16f-78af17c8ee67"
      },
      "execution_count": 13,
      "outputs": [
        {
          "output_type": "display_data",
          "data": {
            "text/plain": [
              "<Figure size 640x480 with 1 Axes>"
            ],
            "image/png": "[encoded data removed]"
          },
          "metadata": {}
        }
      ]
    },
    {
      "cell_type": "code",
      "source": [
        "train_data.shape , train_data.dtypes"
      ],
      "metadata": {
        "colab": {
          "base_uri": "https://localhost:8080/"
        },
        "id": "URVgwDFiV-Nl",
        "outputId": "a47afac5-9ffb-493d-b511-2cec6683bd3b"
      },
      "execution_count": 14,
      "outputs": [
        {
          "output_type": "execute_result",
          "data": {
            "text/plain": [
              "((8693, 14),\n",
              " PassengerId      object\n",
              " HomePlanet       object\n",
              " CryoSleep        object\n",
              " Cabin            object\n",
              " Destination      object\n",
              " Age             float64\n",
              " VIP              object\n",
              " RoomService     float64\n",
              " FoodCourt       float64\n",
              " ShoppingMall    float64\n",
              " Spa             float64\n",
              " VRDeck          float64\n",
              " Name             object\n",
              " Transported        bool\n",
              " dtype: object)"
            ]
          },
          "metadata": {},
          "execution_count": 14
        }
      ]
    },
    {
      "cell_type": "markdown",
      "source": [
        "Lets explore the data and ask questions to better understand the data.\n",
        "\n",
        "The dataset has the following features:\n",
        "\n",
        "\n",
        "PassengerId:Unique Id of a passenger\n",
        "HomePlanet: The home planet of the passenger\n",
        "CryoSleep: This is a kind of animation in which a passenger will be suspended during the whole voyage and remain confined to their cabin.\n",
        "Cabin: Cabin number\n",
        "Destination:\n",
        "Age: Age in years\n",
        "VIP: Indicates whether the person has opted for VIP service or not.\n",
        "RoomService:\n",
        "FoodCourt:\n",
        "ShoppingMall:Commodities on which passengers of the spaceship can choose to spend.\n",
        "Spa:\n",
        "VRDeck:\n",
        "Name:\n",
        "Transported:This is the target column. This indicates whether the passenger has been transported to another dimension or not.\n"
      ],
      "metadata": {
        "id": "eWd4P329Yoh_"
      }
    },
    {
      "cell_type": "code",
      "source": [
        "sns.histplot(data=train_data,x=\"Age\")"
      ],
      "metadata": {
        "colab": {
          "base_uri": "https://localhost:8080/",
          "height": 466
        },
        "id": "lgJdV-XrWTYS",
        "outputId": "b7c8a6df-0eed-4add-c7b4-14962b8fffea"
      },
      "execution_count": 15,
      "outputs": [
        {
          "output_type": "execute_result",
          "data": {
            "text/plain": [
              "<Axes: xlabel='Age', ylabel='Count'>"
            ]
          },
          "metadata": {},
          "execution_count": 15
        },
        {
          "output_type": "display_data",
          "data": {
            "text/plain": [
              "<Figure size 640x480 with 1 Axes>"
            ],
            "image/png": "[encoded data removed]"
          },
          "metadata": {}
        }
      ]
    },
    {
      "cell_type": "code",
      "source": [
        "sns.countplot(data=train_data,x=\"HomePlanet\",hue=\"Transported\")"
      ],
      "metadata": {
        "colab": {
          "base_uri": "https://localhost:8080/",
          "height": 466
        },
        "id": "Jf016pNXWvqn",
        "outputId": "0ada3ce8-74ff-488b-e86b-fc911c0f9979"
      },
      "execution_count": 16,
      "outputs": [
        {
          "output_type": "execute_result",
          "data": {
            "text/plain": [
              "<Axes: xlabel='HomePlanet', ylabel='count'>"
            ]
          },
          "metadata": {},
          "execution_count": 16
        },
        {
          "output_type": "display_data",
          "data": {
            "text/plain": [
              "<Figure size 640x480 with 1 Axes>"
            ],
            "image/png": "[encoded data removed]"
          },
          "metadata": {}
        }
      ]
    },
    {
      "cell_type": "markdown",
      "source": [
        "Distribution of features"
      ],
      "metadata": {
        "id": "lfmZAsvtYlkj"
      }
    },
    {
      "cell_type": "code",
      "source": [
        "preproc_funcs = []\n",
        "\n",
        "# Break PassengerId into multiple features\n",
        "def split_PassengerId(df, **kwargs):\n",
        "    Group_GroupNum = df.PassengerId.str.split('_', expand=True)\n",
        "    Group_GroupNum = Group_GroupNum.astype(int)\n",
        "    df[['PassengerGroup', 'PassengerGroupNum']] = Group_GroupNum\n",
        "    return df.drop(columns='PassengerId'), None\n",
        "\n",
        "df, _ = split_passengerId(df)\n",
        "preproc_funcs.append(split_passengerId)\n",
        "\n",
        "# Break Cabin into multiple features\n",
        "def split_cabin(df, **kwargs):\n",
        "    Deck_Num_Side = df.cabin.str.split('/', expand=True)\n",
        "    Deck_Num_Side = Deck_Num_Side\n",
        "    df[['cabinDeck', 'cabinNum', 'cabinSide']] = Deck_Num_Side\n",
        "    df.cabinNum = df.cabinNum.astype(float)\n",
        "    return df.drop(columns='cabin'), None\n",
        "\n",
        "df, _ = split_cabin(df)\n",
        "preproc_funcs.append(split_cabin)\n",
        "\n",
        "# Map categorical variables\n",
        "def cat2number(df, categories = None, **kwargs):\n",
        "    cat_cols = ['CabinDeck', 'CabinSide']  + ['HomePlanet', 'Destination']\n",
        "    create_categories = True if categories is None else False\n",
        "    if create_categories: categories = {}\n",
        "    for col in cat_cols:\n",
        "        if create_categories:\n",
        "            categories_ = df[col].value_counts().index.sort_values().to_list()\n",
        "            categories[col] = categories_\n",
        "        else:\n",
        "            categories_ = categories[col]\n",
        "        mapping = {key:i for i, key in enumerate(categories_)}\n",
        "        df[col] = df[col].map(mapping)\n",
        "        print(f'Mapped {col} {mapping}')\n",
        "    return df, categories\n",
        "\n",
        "df, categories = cat2number(df)\n",
        "preproc_funcs.append(cat2number)\n",
        "\n",
        "# Convert to booleans\n",
        "def bool2num(df, **kwargs):\n",
        "    features = ['CryoSleep', 'VIP']\n",
        "    df[features] = df[features].astype(bool)\n",
        "    return df, None\n",
        "\n",
        "df, _ = bool2num(df)\n",
        "preproc_funcs.append(bool2num)\n",
        "\n",
        "# Drop Name column\n",
        "def drop_columns(df, drop_columns=['Name'], **kwargs):\n",
        "    return df.drop(columns=drop_columns), None\n",
        "\n",
        "df, _ = drop_columns(df)\n",
        "preproc_funcs.append(drop_columns)\n",
        "\n",
        "# Put Transported at the last column\n",
        "def move_to_last(df, target = 'Transported', **kwargs):\n",
        "    columns = df.columns.to_list()\n",
        "    if target in columns:\n",
        "        columns.remove(target)\n",
        "        columns.append(target)\n",
        "    return df[columns], None\n",
        "\n",
        "df, _ = move_to_last(df)\n",
        "preproc_funcs.append(move_to_last)\n",
        "\n",
        "def prepare_dataset(df, funcs, **kwargs):\n",
        "    df_ = df.copy()\n",
        "    for func in funcs:\n",
        "        df_, _ = func(df_, **kwargs)\n",
        "\n",
        "    if kwargs['target'] in df_.columns.tolist():\n",
        "        y = df_[kwargs['target']]\n",
        "        X = df_.drop(columns=kwargs['target'])\n",
        "    else:\n",
        "        y = None\n",
        "        X = df_\n",
        "    return X, y\n",
        ""
      ],
      "metadata": {
        "colab": {
          "base_uri": "https://localhost:8080/",
          "height": 235
        },
        "id": "L5AP1edGazxo",
        "outputId": "2ddbd1e1-07f6-4dec-a148-6ee06e6b8def"
      },
      "execution_count": 5,
      "outputs": [
        {
          "output_type": "error",
          "ename": "NameError",
          "evalue": "ignored",
          "traceback": [
            "\u001b[0;31m---------------------------------------------------------------------------\u001b[0m",
            "\u001b[0;31mNameError\u001b[0m                                 Traceback (most recent call last)",
            "\u001b[0;32m<ipython-input-5-5909c49bc1fa>\u001b[0m in \u001b[0;36m<cell line: 10>\u001b[0;34m()\u001b[0m\n\u001b[1;32m      8\u001b[0m     \u001b[0;32mreturn\u001b[0m \u001b[0mdf\u001b[0m\u001b[0;34m.\u001b[0m\u001b[0mdrop\u001b[0m\u001b[0;34m(\u001b[0m\u001b[0mcolumns\u001b[0m\u001b[0;34m=\u001b[0m\u001b[0;34m'PassengerId'\u001b[0m\u001b[0;34m)\u001b[0m\u001b[0;34m,\u001b[0m \u001b[0;32mNone\u001b[0m\u001b[0;34m\u001b[0m\u001b[0;34m\u001b[0m\u001b[0m\n\u001b[1;32m      9\u001b[0m \u001b[0;34m\u001b[0m\u001b[0m\n\u001b[0;32m---> 10\u001b[0;31m \u001b[0mdf\u001b[0m\u001b[0;34m,\u001b[0m \u001b[0m_\u001b[0m \u001b[0;34m=\u001b[0m \u001b[0msplit_passengerId\u001b[0m\u001b[0;34m(\u001b[0m\u001b[0mdf\u001b[0m\u001b[0;34m)\u001b[0m\u001b[0;34m\u001b[0m\u001b[0;34m\u001b[0m\u001b[0m\n\u001b[0m\u001b[1;32m     11\u001b[0m \u001b[0mpreproc_funcs\u001b[0m\u001b[0;34m.\u001b[0m\u001b[0mappend\u001b[0m\u001b[0;34m(\u001b[0m\u001b[0msplit_passengerId\u001b[0m\u001b[0;34m)\u001b[0m\u001b[0;34m\u001b[0m\u001b[0;34m\u001b[0m\u001b[0m\n\u001b[1;32m     12\u001b[0m \u001b[0;34m\u001b[0m\u001b[0m\n",
            "\u001b[0;31mNameError\u001b[0m: name 'split_passengerId' is not defined"
          ]
        }
      ]
    },
    {
      "cell_type": "code",
      "source": [
        "from plotly.subplots import make_subplots\n",
        "\n",
        "features = df.columns.to_list()\n",
        "fig = make_subplots(6,3, subplot_titles=features)\n",
        "\n",
        "for i, column in enumerate(features):\n",
        "    fig.append_trace(go.Histogram(x=df[column], nbinsx=50, name=column), row=i // 3 + 1, col= i % 3 + 1 )\n",
        "fig.update_layout(width=1200, height=1500, showlegend=False)\n",
        "fig.show()"
      ],
      "metadata": {
        "colab": {
          "base_uri": "https://localhost:8080/",
          "height": 1000
        },
        "id": "In5AZvukYpvf",
        "outputId": "f5cc2363-5383-4f3c-9c89-6aa56c883024"
      },
      "execution_count": null,
      "outputs": [
        {
          "output_type": "display_data",
          "data": {
            "text/html": [
              "<html>\n",
              "<head><meta charset=\"utf-8\" /></head>\n",
              "<body>\n",
              "    <div>            <script src=\"https://cdnjs.cloudflare.com/ajax/libs/mathjax/2.7.5/MathJax.js?config=TeX-AMS-MML_SVG\"></script><script type=\"text/javascript\">if (window.MathJax && window.MathJax.Hub && window.MathJax.Hub.Config) {window.MathJax.Hub.Config({SVG: {font: \"STIX-Web\"}});}</script>                <script type=\"text/javascript\">window.PlotlyConfig = {MathJaxConfig: 'local'};</script>\n",
              "        <script src=\"https://cdn.plot.ly/plotly-2.18.2.min.js\"></script>                <div id=\"a59fa082-c18b-45d6-8638-54b2de02c637\" class=\"plotly-graph-div\" style=\"height:1500px; width:1200px;\"></div>            <script type=\"text/javascript\">                                    window.PLOTLYENV=window.PLOTLYENV || {};                                    if (document.getElementById(\"a59fa082-c18b-45d6-8638-54b2de02c637\")) {                    Plotly.newPlot(                        \"a59fa082-c18b-45d6-8638-54b2de02c637\",                        [{\"name\":\"Transported\",\"nbinsx\":50,\"x\":[false,false,false,false,false,false,false,false,false,false,false,false,false,false,false,false,false,false,false,false,false,false,false,false,false,false,false,false,false,false,false,false,false,false,false,false,false,false,false,false,false,false,false,false,false,false,false,false,false,false,false,false,false,false,false,false,false,false,false,false,false,false,false,false,false,false,false,false,false,false,false,false,false,false,false,false,false,false,false,false,false,false,false,false,false,false,false,false,false,false,false,false,false,false,false,false,false,false,false,false,false,false,false,false,false,false,false,false,false,false,false,false,false,false,false,false,false,false,false,false,false,false,false,false,false,false,false,false,false,false,false,false,false,false,false,false,false,false,false,false,false,false,false,false,false,false,false,false,false,false,false,false,false,false,false,false,false,false,false,false,false,false,false,false,false,false,false,false,false,false,false,false,false,false,false,false,false,false,false,false,false,false,false,false,false,false,false,false,false,false,false,false,false,false,false,false,false,false,false,false,false,false,false,false,false,false,false,false,false,false,false,false,false,false,false,false,false,false,false,false,false,false,false,false,false,false,false,false,false,false,false,false,false,false,false,false,false,false,false,false,false,false,false,false,false,false,false,false,false,false,false,false,false,false,false,false,false,false,false,false,false,false,false,false,false,false,false,false,false,false,false,false,false,false,false,false,false,false,false,false,false,false,false,false,false,false,false,false,false,false,false,false,false,false,false,false,false,false,false,false,false,false,false,false,false,false,false,false,false,false,false,false,false,false,false,false,false,false,false,false,false,false,false,false,false,false,false,false,false,false,false,false,false,false,false,false,false,false,false,false,false,false,false,false,false,false,false,false,false,false,false,false,false,false,false,false,false,false,false,false,false,false,false,false,false,false,false,false,false,false,false,false,false,false,false,false,false,false,false,false,false,false,false,false,false,false,false,false,false,false,false,false,false,false,false,false,false,false,false,false,false,false,false,false,false,false,false,false,false,false,false,false,false,false,false,false,false,false,false,false,false,false,false,false,false,false,false,false,false,false,false,false,false,false,false,false,false,false,false,false,false,false,false,false,false,false,false,false,false,false,false,false,false,false,false,false,false,false,false,false,false,false,false,false,false,false,false,false,false,false,false,false,false,false,false,false,false,false,false,false,false,false,false,false,false,false,false,false,false,false,false,false,false,false,false,false,false,false,false,false,false,false,false,false,false,false,false,false,false,false,false,false,false,false,false,false,false,false,false,false,false,false,false,false,false,false,false,false,false,false,false,false,false,false,false,false,false,false,false,false,false,false,false,false,false,false,false,false,false,false,false,false,false,false,false,false,false,false,false,false,false,false,false,false,false,false,false,false,false,false,false,false,false,false,false,false,false,false,false,false,false,false,false,false,false,false,false,false,false,false,false,false,false,false,false,false,false,false,false,false,false,false,false,false,false,false,false,false,false,false,false,false,false,false,false,false,false,false,false,false,false,false,false,false,false,false,false,false,false,false,false,false,false,false,false,false,false,false,false,false,false,false,false,false,false,false,false,false,false,false,false,false,false,false,false,false,false,false,false,false,false,false,false,false,false,false,false,false,false,false,false,false,false,false,false,false,false,false,false,false,false,false,false,false,false,false,false,false,false,false,false,false,false,false,false,false,false,false,false,false,false,false,false,false,false,false,false,false,false,false,false,false,false,false,false,false,false,false,false,false,false,false,false,false,false,false,false,false,false,false,false,false,false,false,false,false,false,false,false,false,false,false,false,false,false,false,false,false,false,false,false,false,false,false,false,false,false,false,false,false,false,false,false,false,false,false,false,false,false,false,false,false,false,false,false,false,false,false,false,false,false,false,false,false,false,false,false,false,false,false,false,false,false,false,false,false,false,false,false,false,false,false,false,false,false,false,false,false,false,false,false,false,false,false,false,false,false,false,false,false,false,false,false,false,false,false,false,false,false,false,false,false,false,false,false,false,false,false,false,false,false,false,false,false,false,false,false,false,false,false,false,false,false,false,false,false,false,false,false,false,false,false,false,false,false,false,false,false,false,false,false,false,false,false,false,false,false,false,false,false,false,false,false,false,false,false,false,false,false,false,false,false,false,false,false,false,false,false,false,false,false,false,false,false,false,false,false,false,false,false,false,false,false,false,false,false,false,false,false,false,false,false,false,false,false,false,false,false,false,false,false,false,false,false,false,false,false,false,false,false,false,false,false,false,false,false,false,false,false,false,false,false,false,false,false,false,false,false,false,false,false,false,false,false,false,false,false,false,false,false,false,false,false,false,false,false,false,false,false,false,false,false,false,false,false,false,false,false,false,false,false,false,false,false,false,false,false,false,false,false,false,false,false,false,false,false,false,false,false,false,false,false,false,false,false,false,false,false,false,false,false,false,false,false,false,false,false,false,false,false,false,false,false,false,false,false,false,false,false,false,false,false,false,false,false,false,false,false,false,false,false,false,false,false,false,false,false,false,false,false,false,false,false,false,false,false,false,false,false,false,false,false,false,false,false,false,false,false,false,false,false,false,false,false,false,false,false,false,false,false,false,false,false,false,false,false,false,false,false,false,false,false,false,false,false,false,false,false,false,false,false,false,false,false,false,false,false,false,false,false,false,false,false,false,false,false,false,false,false,false,false,false,false,false,false,false,false,false,false,false,false,false,false,false,false,false,false,false,false,false,false,false,false,false,false,false,false,false,false,false,false,false,false,false,false,false,false,false,false,false,false,false,false,false,false,false,false,false,false,false,false,false,false,false,false,false,false,false,false,false,false,false,false,false,false,false,false,false,false,false,false,false,false,false,false,false,false,false,false,false,false,false,false,false,false,false,false,false,false,false,false,false,false,false,false,false,false,false,false,false,false,false,false,false,false,false,false,false,false,false,false,false,false,false,false,false,false,false,false,false,false,false,false,false,false,false,false,false,false,false,false,false,false,false,false,false,false,false,false,false,false,false,false,false,false,false,false,false,false,false,false,false,false,false,false,false,false,false,false,false,false,false,false,false,false,false,false,false,false,false,false,false,false,false,false,false,false,false,false,false,false,false,false,false,false,false,false,false,false,false,false,false,false,false,false,false,false,false,false,false,false,false,false,false,false,false,false,false,false,false,false,false,false,false,false,false,false,false,false,false,false,false,false,false,false,false,false,false,false,false,false,false,false,false,false,false,false,false,false,false,false,false,false,false,false,false,false,false,false,false,false,false,false,false,false,false,false,false,false,false,false,false,false,false,false,false,false,false,false,false,false,false,false,false,false,false,false,false,false,false,false,false,false,false,false,false,false,false,false,false,false,false,false,false,false,false,false,false,false,false,false,false,false,false,false,false,false,false,false,false,false,false,false,false,false,false,false,false,false,false,false,false,false,false,false,false,false,false,false,false,false,false,false,false,false,false,false,false,false,false,false,false,false,false,false,false,false,false,false,false,false,false,false,false,false,false,false,false,false,false,false,false,false,false,false,false,false,false,false,false,false,false,false,false,false,false,false,false,false,false,false,false,false,false,false,false,false,false,false,false,false,false,false,false,false,false,false,false,false,false,false,false,false,false,false,false,false,false,false,false,false,false,false,false,false,false,false,false,false,false,false,false,false,false,false,false,false,false,false,false,false,false,false,false,false,false,false,false,false,false,false,false,false,false,false,false,false,false,false,false,false,false,false,false,false,false,false,false,false,false,false,false,false,false,false,false,false,false,false,false,false,false,false,false,false,false,false,false,false,false,false,false,false,false,false,false,false,false,false,false,false,false,false,false,false,false,false,false,false,false,false,false,false,false,false,false,false,false,false,false,false,false,false,false,false,false,false,false,false,false,false,false,false,false,false,false,false,false,false,false,false,false,false,false,false,false,false,false,false,false,false,false,false,false,false,false,false,false,false,false,false,false,false,false,false,false,false,false,false,false,false,false,false,false,false,false,false,false,false,false,false,false,false,false,false,false,false,false,false,false,false,false,false,false,false,false,false,false,false,false,false,false,false,false,false,false,false,false,false,false,false,false,false,false,false,false,false,false,false,false,false,false,false,false,false,false,false,false,false,false,false,false,false,false,false,false,false,false,false,false,false,false,false,false,false,false,false,false,false,false,false,false,false,false,false,false,false,false,false,false,false,false,false,false,false,false,false,false,false,false,false,false,false,false,false,false,false,false,false,false,false,false,false,false,false,false,false,false,false,false,false,false,false,false,false,false,false,false,false,false,false,false,false,false,false,false,false,false,false,false,false,false,false,false,false,false,false,false,false,false,false,false,false,false,false,false,false,false,false,false,false,false,false,false,false,false,false,false,false,false,false,false,false,false,false,false,false,false,false,false,false,false,false,false,false,false,false,false,false,false,false,false,false,false,false,false,false,false,false,false,false,false,false,false,false,false,false,false,false,false,false,false,false,false,false,false,false,false,false,false,false,false,false,false,false,false,false,false,false,false,false,false,false,false,false,false,false,false,false,false,false,false,false,false,false,false,false,false,false,false,false,false,false,false,false,false,false,false,false,false,false,false,false,false,false,false,false,false,false,false,false,false,false,false,false,false,false,false,false,false,false,false,false,false,false,false,false,false,false,false,false,false,false,false,false,false,false,false,false,false,false,false,false,false,false,false,false,false,false,false,false,false,false,false,false,false,false,false,false,false,false,false,false,false,false,false,false,false,false,false,false,false,false,false,false,false,false,false,false,false,false,false,false,false,false,false,false,false,false,false,false,false,false,false,false,false,false,false,false,false,false,false,false,false,false,false,false,false,false,false,false,false,false,false,false,false,false,false,false,false,false,false,false,false,false,false,false,false,false,false,false,false,false,false,false,false,false,false,false,false,false,false,false,false,false,false,false,false,false,false,false,false,false,false,false,false,false,false,false,false,false,false,false,false,false,false,false,false,false,false,false,false,false,false,false,false,false,false,false,false,false,false,false,false,false,false,false,false,false,false,false,false,false,false,false,false,false,false,false,false,false,false,false,false,false,false,false,false,false,false,false,false,false,false,false,false,false,false,false,false,false,false,false,false,false,false,false,false,false,false,false,false,false,false,false,false,false,false,false,false,false,false,false,false,false,false,false,false,false,false,false,false,false,false,false,false,false,false,false,false,false,false,false,false,false,false,false,false,false,false,false,false,false,false,false,false,false,false,false,false,false,false,false,false,false,false,false,false,false,false,false,false,false,false,false,false,false,false,false,false,false,false,false,false,false,false,false,false,false,false,false,false,false,false,false,false,false,false,false,false,false,false,false,false,false,false,false,false,false,false,false,false,false,false,false,false,false,false,false,false,false,false,false,false,false,false,false,false,false,false,false,false,false,false,false,false,false,false,false,false,false,false,false,false,false,false,false,false,false,false,false,false,false,false,false,false,false,false,false,false,false,false,false,false,false,false,false,false,false,false,false,false,false,false,false,false,false,false,false,false,false,false,false,false,false,false,false,false,false,false,false,false,false,false,false,false,false,false,false,false,false,false,false,false,false,false,false,false,false,false,false,false,false,false,false,false,false,false,false,false,false,false,false,false,false,false,false,false,false,false,false,false,false,false,false,false,false,false,false,false,false,false,false,false,false,false,false,false,false,false,false,false,false,false,false,false,false,false,false,false,false,false,false,false,false,false,false,false,false,false,false,false,false,false,false,false,false,false,false,false,false,false,false,false,false,false,false,false,false,false,false,false,false,false,false,false,false,false,false,false,false,false,false,false,false,false,false,false,false,false,false,false,false,false,false,false,false,false,false,false,false,false,false,false,false,false,false,false,false,false,false,false,false,false,false,false,false,false,false,false,false,false,false,false,false,false,false,false,false,false,false,false,false,false,false,false,false,false,false,false,false,false,false,false,false,false,false,false,false,false,false,false,false,false,false,false,false,false,false,false,false,false,false,false,false,false,false,false,false,false,false,false,false,false,false,false,false,false,false,false,false,false,false,false,false,false,false,false,false,false,false,false,false,false,false,false,false,false,false,false,false,false,false,false,false,false,false,false,false,false,false,false,false,false,false,false,false,false,false,false,false,false,false,false,false,false,false,false,false,false,false,false,false,false,false,false,false,false,false,false,false,false,false,false,false,false,false,false,false,false,false,false,false,false,false,false,false,false,false,false,false,false,false,false,false,false,false,false,false,false,false,false,false,false,false,false,false,false,false,false,false,false,false,false,false,false,false,false,false,false,false,false,false,false,false,false,false,false,false,false,false,false,false,false,false,false,false,false,false,false,false,false,false,false,false,false,false,false,false,false,false,false,false,false,false,false,false,false,false,false,false,false,false,false,false,false,false,false,false,false,false,false,false,false,false,false,false,false,false,false,false,false,false,false,false,false,false,false,false,false,false,false,false,false,false,false,false,false,false,false,false,false,false,false,false,false,false,false,false,false,false,false,false,false,false,false,false,false,false,false,false,false,false,false,false,false,false,false,false,false,false,false,false,false,false,false,false,false,false,false,false,false,false,false,false,false,false,false,false,false,false,false,false,false,false,false,false,false,false,false,false,false,false,false,false,false,false,false,false,false,false,false,false,false,false,false,false,false,false,false,false,false,false,false,false,false,false,false,false,false,false,false,false,false,false,false,false,false,false,false,false,false,false,false,false,false,false,false,false,false,false,false,false,false,false,false,false,false,false,false,false,false,false,false,false,false,false,false,false,false,false,false,false,false,false,false,false,false,false,false,false,false,false,false,false,false,false,false,false,false,false,false,false,false,false,false,false,false,false,false,false,false,false,false,false,false,false,false,false,false,false,false,false,false,false,false,false,false,false,false,false,false,false,false,false,false,false,false,false,false,false,false,false,false,false,false,false,false,false,false,false,false,false,false,false,false,false,false,false,false,false,false,false,false,false,false,false,false,false,false,false,false,false,false,false,false,false,false,false,false,false,false,false,false,false,false,false,false,false,false,false,false,false,false,false,false,false,false,false,false,false,false,false,false,false,false,false,false,false,false,false,false,false,false,false,false,false,false,false,false,false,false,false,false,false,false,false,false,false,false,false,false,false,false,false,false,false,false,false,false,false,false,false,false,false,false,false,false,false,false,false,false,false,false,false,false,false,false,false,false,false,false,false,false,false,false,false,false,false,false,false,false,false,false,false,false,false,false,false,false,false,false,false,false,false,false,false,false,false,false,false,false,false,false,false,false,false,false,false,false,false,false,false,false,false,false,false,false,false,false,false,false,false,false,false,false,false,false,false,false,false,false,false,false,false,false,false,false,false,false,false,false,false,false,false,false,false,false,false,false,false,false,false,false,false,false,false,false,false,false,false,false,false,false,false,false,false,false,false,false,false,false,false,false,false,false,false,false,false,false,false,false,false,false,false,false,false,false,false,false,false,false,false,false,false,false,false,false,false,false,false,false,false,false,false,false,false,false,false,false,false,false,false,false,false,false,false,false,false,false,false,false,false,false,false,false,false,false,false,false,false,false,false,false,false,false,false,false,false,false,false,false,false,false,false,false,false,false,false,false,false,false,false,false,false,false,false,false,false,false,false,false,false,false,false,false,false,false,false,false,false,false,false,false,false,false,false,false,false,false,false,false,false,false,false,false,false,false,false,false,false,false,false,false,false,false,false,false,false,false,false,false,false,false,false,false,false,false,false,false,false,false,false,false,false,false,false,false,false,false,false,false,false,false,false,false,false,false,false,false,false,false,false,false,false,false,false,false,false,false,false,false,false,false,false,false,false,false,false,false,false,false,false,false,false,false,false,false,false,false,false,false,false,false,false,false,false,false,false,false,false,false,false,false,false,false,false,false,false,false,false,false,false,false,false,false,false,false,false,false,false,false,false,false,false,false,false,false,false,false,false,false,false,false,false,false,false,false,false,false,false,false,false,false,false,false,false,false,false,false,false,false,false,false,false,false,false,false,false,false,false,false,false,false,false,false,false,false,false,false,false,false,false,false,false,false,false,false,false,false,false,false,false,false,false,false,false,false,false,false,false,false,false,false,false,false,false,false,false,false,false,false,false,false,false,false,false,false,false,false,false,false,false,false,false,false,false,false,false,false,false,false,false,false,false,false,false,false,false,false,false,false,false,false,false,false,false,false,false,false,false,false,false,false,false,false,false,false,false,false,false,false,false,false,false,false,false,false,false,false,false,false,false,false,false,false,false,false,false,false,false,false,false,false,false,false,false,false,false,false,false,false,false,false,false,false,false,false,false,false,false,false,false,false,false,false,false,false,false,false,false,false,false,false,false,false,false,false,false,false,false,false,false,false,false,false,false,false,false,false,false,false,false,false,false,false,false,false,false,false,false,false,false,false,false,false,false,false,false,false,false,false,false,false,false,false,false,false,false,false,false,false,false,false,false,false,false,false,false,false,false,false,false,false,false,false,false,false,false,false,false,false,false,false,false,false,false,false,false,false,false,false,false,false,false,false,false,false,false,false,false,false,false,false,false,false,false,false,false,false,false,false,false,false,false,false,false,false,false,false,false,false,false,false,false,false,false,false,false,false,false,false,false,false,false,false,false,false,false,false,false,false,false,false,false,false,false,false,false,false,false,false,false,false,false,false,false,false,false,false,false,false,false,false,false,false,false,false,false,false,false,false,false,false,false,false,false,false,false,false,false,false,false,false,false,false,false,false,false,false,false,false,false,false,false,false,false,false,false,false,false,false,false,false,false,false,false,false,false,false,false,false,false,false,false,false,false,false,false,false,false,false,false,false,false,false,false,false,false,false,false,false,false,false,false,false,false,false,false,false,false,false,false,false,false,false,false,false,false,false,false,false,false,false,false,false,false,false,false,false,false,false,false,false,false,false,false,false,false,false,false,false,false,false,false,false,false,false,false,false,false,false,false,false,false,false,false,false,false,false,false,false,false,false,false,false,false,false,false,false,false,false,false,false,false,false,false,false,false,false,false,false,false,false,false,false,false,false,false,false,false,false,false,false,false,false,false,false,false,false,false,false,false,false,false,false,false,false,false,false,false,false,false,false,false,false,false,false,false,false,false,false,false,false,false,false,false,false,false,false,false,false,false,false,false,false,false,false,false,false,false,false,false,false,false,false,false,false,false,false,false,false,false,false,false,false,false,false,false,false,false,false,false,false,false,false,false,false,false,false,false,false,false,false,false,false,false,false,false,false,false,false,false,false,false,false,false,false,false,false,false,false,false,false,false,false,false,false,false,false,false,false,false,false,false,false,false,false,false,false,false,false,false,false,false,false,false,false,false,false,false,false,false,false,false,false,false,false,false,false,false,false,false,false,false,false,false,false,false,false,false,false,false,false,false,false,false,false,false,false,false,false,false,false,false,false,false,false,false,false,false,false,false,false,false,false,false,false,false,false,false,false,false,false,false,false,false,false,false,false,false,false,false,false,false,false,false,false,false,false,false,false,false,false,false,false,false,false,false,false,false,false,false,false,false,false,false,false,false,false,false,false,false,false,false,false,false,false,false,false,false,false,false,false,false,false,false,false,false,false,false,false,false,false,false,false,false,false,false,false,false,false,false,false,false,false,false,false,false,false,false,false,false,false,false,false,false,false,false,false,false,false,false,false,false,false,false,false,false,false,false,false,false,false,false,false,false,false,false,false,false,false,false,false,false,false,false,false,false,false,false,false,false,false,false,false,false,false,false,false,false,false,false,false,false,false,false,false,false,false,false,false,false,false,false,false,false,false,false,false,false,false,false,false,false,false,false,false,false,false,false,false,false,false,false,false,false,false,false,false,false,false,false,false,false,false,false,false,false,false,false,false,false,false,false,false,false,false,false,false,false,false,false,false,false,false,false,false,false,false,false,false,false,false,false,false,false,false,false,false,false,false,false,false,false,false,false],\"type\":\"histogram\",\"xaxis\":\"x\",\"yaxis\":\"y\"},{\"name\":\"PassengerGroup\",\"nbinsx\":50,\"x\":[13,18,19,21,23,27,29,32,32,33,37,40,40,42,46,46,46,47,47,47,48,49,54,54,54,55,57,59,60,63,65,75,79,80,83,87,89,93,94,94,95,96,100,100,104,106,109,117,118,121,124,125,125,130,131,132,135,137,142,142,142,143,145,150,150,153,154,155,156,157,158,158,159,161,162,166,168,175,175,175,175,175,176,180,184,185,187,191,194,194,194,204,208,209,214,214,215,218,226,227,228,228,228,228,230,230,235,236,238,247,247,249,256,259,262,264,264,264,266,266,268,268,271,272,273,273,273,274,274,276,276,279,280,284,292,293,295,296,299,300,308,311,312,317,318,319,319,323,325,328,329,332,335,339,339,339,339,339,339,339,339,342,342,344,344,349,349,349,349,349,349,351,353,353,354,362,363,363,363,364,364,366,367,374,374,386,390,393,394,399,400,404,406,414,416,418,419,419,419,420,421,422,424,426,440,443,450,451,455,464,467,467,467,467,469,473,478,478,479,483,483,484,486,489,489,491,492,493,494,494,495,495,495,495,495,495,496,496,497,505,508,509,511,514,524,526,530,530,530,532,532,535,536,536,541,543,544,554,557,557,558,562,562,574,578,578,584,584,592,595,601,604,605,606,613,613,616,617,620,620,620,621,622,624,625,625,625,626,626,626,627,632,632,632,640,640,648,648,649,651,652,652,652,652,652,654,662,666,666,667,670,670,673,675,676,681,692,694,695,698,700,706,708,708,711,716,717,717,717,717,717,717,717,720,720,720,721,722,723,725,730,731,731,735,739,741,742,742,744,745,747,748,748,749,751,752,755,758,758,758,759,759,759,760,763,763,766,774,774,774,775,775,775,775,775,775,778,778,780,783,792,800,801,803,804,807,810,812,814,821,827,827,827,831,832,837,837,838,838,841,842,843,844,847,852,854,855,856,857,858,858,861,862,864,864,864,866,872,880,880,882,884,884,886,886,886,887,887,888,888,891,892,892,892,894,895,896,897,897,900,908,909,909,909,914,916,917,920,929,934,936,937,943,943,943,945,945,948,950,954,958,959,962,963,967,973,974,977,980,981,981,986,986,996,999,999,1003,1007,1009,1010,1016,1021,1023,1028,1037,1039,1042,1044,1050,1055,1059,1059,1061,1064,1064,1067,1069,1070,1072,1072,1072,1072,1072,1072,1072,1072,1073,1074,1074,1081,1087,1090,1090,1092,1098,1101,1103,1104,1106,1106,1107,1109,1111,1111,1111,1118,1118,1118,1118,1118,1119,1119,1120,1122,1124,1124,1124,1125,1125,1126,1128,1128,1131,1135,1135,1135,1135,1137,1137,1138,1139,1143,1145,1145,1145,1145,1151,1157,1158,1158,1159,1159,1159,1160,1164,1171,1172,1176,1181,1183,1183,1183,1184,1184,1189,1194,1196,1196,1200,1201,1201,1202,1204,1205,1207,1207,1207,1207,1209,1209,1217,1217,1219,1219,1224,1224,1226,1226,1227,1237,1241,1244,1245,1247,1249,1251,1252,1253,1257,1257,1257,1257,1262,1262,1265,1266,1268,1270,1272,1275,1276,1277,1290,1296,1297,1298,1301,1301,1301,1303,1305,1313,1314,1315,1318,1319,1319,1320,1320,1320,1321,1321,1321,1321,1327,1329,1334,1338,1338,1339,1341,1341,1341,1343,1343,1343,1344,1346,1349,1349,1354,1354,1354,1354,1354,1354,1354,1358,1358,1359,1361,1361,1363,1364,1364,1367,1369,1369,1369,1372,1373,1374,1388,1392,1394,1396,1405,1409,1409,1411,1418,1422,1422,1422,1429,1432,1432,1436,1437,1441,1446,1448,1449,1456,1459,1464,1466,1468,1469,1469,1470,1471,1471,1471,1471,1471,1472,1473,1473,1475,1476,1477,1477,1480,1482,1483,1486,1487,1487,1492,1492,1494,1495,1495,1496,1497,1497,1502,1502,1502,1502,1504,1505,1508,1512,1513,1514,1516,1517,1518,1518,1519,1522,1530,1534,1534,1535,1537,1538,1538,1546,1549,1553,1553,1554,1554,1556,1557,1559,1559,1563,1566,1570,1571,1574,1575,1582,1582,1583,1586,1587,1587,1589,1591,1591,1598,1598,1600,1605,1607,1609,1610,1616,1618,1620,1623,1627,1629,1629,1629,1629,1629,1629,1639,1641,1642,1643,1648,1652,1654,1664,1665,1665,1667,1675,1678,1679,1680,1680,1683,1684,1686,1689,1689,1689,1692,1693,1701,1702,1703,1706,1707,1716,1720,1722,1726,1726,1726,1732,1735,1737,1741,1741,1741,1743,1744,1750,1751,1751,1754,1756,1759,1765,1773,1777,1777,1780,1784,1787,1788,1789,1790,1790,1791,1791,1793,1793,1794,1795,1801,1801,1809,1814,1814,1814,1815,1819,1820,1824,1825,1825,1830,1832,1835,1835,1837,1838,1839,1840,1842,1845,1851,1851,1852,1852,1852,1852,1858,1862,1862,1862,1867,1869,1870,1875,1876,1883,1885,1893,1894,1895,1896,1900,1904,1909,1909,1909,1910,1910,1910,1910,1912,1913,1913,1913,1914,1917,1919,1921,1921,1924,1929,1930,1932,1934,1936,1943,1944,1948,1948,1949,1951,1951,1954,1955,1958,1965,1966,1970,1972,1982,1986,1987,1989,1990,1990,1998,2002,2004,2005,2005,2008,2014,2016,2016,2017,2017,2018,2020,2021,2023,2023,2023,2025,2030,2031,2033,2035,2035,2036,2036,2036,2037,2037,2039,2039,2039,2047,2048,2049,2050,2057,2057,2057,2057,2057,2058,2064,2068,2068,2068,2068,2068,2069,2072,2072,2076,2077,2078,2079,2079,2079,2093,2098,2101,2101,2103,2108,2108,2109,2113,2119,2119,2122,2132,2146,2146,2151,2155,2157,2160,2160,2160,2165,2166,2169,2170,2174,2176,2178,2181,2184,2184,2185,2192,2197,2199,2208,2213,2214,2216,2217,2218,2222,2226,2227,2230,2236,2240,2240,2240,2242,2244,2245,2245,2246,2246,2247,2248,2249,2250,2259,2259,2260,2265,2271,2276,2276,2283,2285,2286,2290,2292,2293,2294,2297,2304,2307,2307,2307,2307,2307,2322,2323,2324,2326,2328,2330,2331,2334,2335,2337,2342,2343,2343,2344,2344,2346,2350,2350,2350,2351,2351,2352,2354,2355,2355,2355,2355,2358,2359,2362,2370,2370,2370,2370,2371,2372,2378,2378,2380,2380,2381,2383,2383,2386,2388,2388,2393,2394,2394,2394,2400,2405,2407,2408,2415,2418,2420,2422,2422,2425,2425,2425,2425,2425,2425,2428,2430,2430,2430,2434,2434,2437,2440,2447,2448,2448,2450,2459,2464,2465,2468,2469,2469,2473,2481,2481,2482,2482,2484,2484,2485,2487,2487,2487,2490,2493,2493,2494,2494,2495,2501,2504,2507,2511,2514,2517,2525,2529,2533,2536,2538,2538,2539,2543,2554,2556,2563,2566,2567,2567,2568,2569,2570,2575,2576,2577,2577,2579,2583,2585,2586,2587,2587,2600,2603,2603,2604,2608,2610,2611,2612,2613,2614,2615,2620,2621,2623,2630,2630,2630,2632,2637,2637,2637,2639,2644,2653,2654,2656,2665,2667,2667,2667,2667,2667,2669,2673,2674,2674,2680,2681,2686,2689,2694,2694,2696,2699,2705,2710,2710,2711,2715,2715,2716,2716,2719,2719,2719,2728,2731,2733,2735,2742,2744,2749,2757,2761,2761,2766,2767,2771,2775,2776,2777,2779,2782,2791,2794,2794,2794,2794,2794,2794,2794,2800,2803,2804,2808,2808,2815,2815,2815,2816,2827,2828,2829,2830,2833,2836,2841,2842,2844,2845,2845,2848,2848,2848,2849,2850,2850,2850,2850,2851,2855,2864,2868,2868,2868,2868,2874,2879,2885,2886,2889,2895,2896,2898,2898,2903,2904,2904,2911,2914,2915,2916,2917,2918,2921,2922,2923,2924,2931,2931,2932,2933,2937,2939,2946,2946,2946,2946,2947,2951,2952,2955,2957,2963,2967,2973,2974,2976,2976,2976,2976,2977,2977,2977,2978,2980,2981,2985,2987,2989,2991,2997,2997,2997,2997,2999,3002,3007,3008,3008,3008,3008,3008,3008,3011,3016,3016,3016,3016,3017,3028,3031,3035,3037,3037,3041,3043,3046,3049,3051,3052,3056,3057,3058,3059,3069,3072,3074,3075,3077,3077,3078,3078,3078,3078,3086,3089,3094,3097,3098,3101,3105,3105,3105,3106,3107,3108,3109,3115,3122,3122,3125,3125,3127,3129,3135,3137,3139,3141,3144,3146,3148,3148,3150,3151,3153,3153,3154,3155,3155,3156,3157,3160,3165,3167,3170,3173,3177,3178,3183,3186,3187,3190,3190,3194,3198,3199,3202,3207,3208,3214,3222,3226,3228,3231,3233,3234,3242,3244,3244,3244,3245,3245,3246,3249,3249,3250,3251,3257,3261,3263,3264,3265,3265,3265,3265,3266,3267,3277,3278,3281,3285,3285,3286,3288,3290,3290,3291,3302,3303,3306,3307,3316,3320,3320,3321,3333,3334,3335,3340,3341,3341,3344,3344,3345,3345,3345,3346,3347,3347,3351,3351,3354,3355,3356,3358,3362,3362,3366,3367,3368,3368,3368,3368,3368,3368,3368,3369,3373,3374,3375,3376,3378,3379,3385,3388,3393,3398,3399,3400,3407,3407,3411,3411,3411,3411,3411,3411,3411,3414,3416,3427,3429,3435,3436,3448,3448,3451,3452,3457,3460,3463,3466,3471,3472,3477,3477,3479,3481,3482,3482,3493,3494,3494,3498,3500,3502,3503,3505,3507,3508,3508,3509,3509,3510,3513,3513,3513,3513,3516,3517,3522,3524,3526,3529,3532,3538,3541,3544,3544,3545,3549,3549,3551,3554,3557,3571,3574,3575,3580,3580,3581,3583,3585,3587,3587,3587,3589,3589,3589,3589,3589,3589,3589,3590,3593,3599,3601,3601,3601,3601,3601,3601,3601,3603,3603,3604,3611,3617,3617,3617,3618,3618,3618,3618,3621,3621,3623,3627,3632,3633,3635,3635,3637,3638,3643,3646,3646,3649,3651,3656,3656,3657,3657,3657,3659,3659,3659,3659,3659,3659,3659,3661,3663,3666,3669,3670,3672,3672,3673,3675,3675,3675,3676,3683,3683,3684,3684,3685,3687,3689,3694,3695,3696,3697,3698,3701,3701,3701,3709,3712,3712,3712,3712,3712,3717,3717,3718,3720,3720,3720,3721,3722,3723,3725,3727,3730,3731,3738,3740,3746,3746,3746,3746,3762,3763,3764,3764,3766,3766,3780,3782,3782,3791,3792,3794,3799,3800,3802,3806,3808,3809,3809,3813,3819,3825,3827,3828,3828,3828,3829,3829,3833,3834,3837,3840,3843,3844,3844,3845,3855,3858,3858,3858,3858,3859,3860,3861,3863,3865,3869,3876,3876,3876,3877,3878,3880,3881,3882,3884,3885,3887,3889,3889,3891,3892,3892,3893,3893,3893,3900,3901,3902,3905,3906,3906,3908,3908,3910,3914,3918,3920,3925,3925,3929,3934,3934,3943,3943,3943,3947,3951,3953,3956,3957,3965,3969,3972,3975,3978,3979,3982,3983,3989,3989,3989,3989,3990,3993,4004,4007,4011,4012,4012,4015,4015,4024,4025,4028,4029,4041,4048,4048,4048,4051,4052,4054,4054,4054,4056,4057,4059,4059,4062,4067,4070,4070,4070,4073,4073,4074,4077,4085,4086,4086,4086,4087,4088,4092,4094,4094,4100,4105,4111,4117,4118,4119,4121,4122,4123,4124,4126,4133,4133,4136,4136,4138,4139,4146,4148,4153,4155,4157,4161,4162,4164,4180,4180,4187,4190,4192,4193,4195,4198,4200,4201,4202,4202,4209,4217,4224,4224,4226,4226,4227,4228,4234,4234,4235,4235,4236,4236,4241,4247,4247,4248,4248,4250,4263,4263,4263,4265,4268,4268,4269,4275,4276,4277,4279,4281,4282,4283,4284,4284,4285,4286,4286,4286,4287,4288,4288,4290,4298,4298,4298,4299,4304,4307,4308,4310,4313,4314,4321,4322,4323,4323,4323,4323,4325,4326,4328,4331,4341,4341,4342,4353,4355,4363,4374,4375,4377,4377,4377,4378,4378,4379,4380,4381,4381,4384,4385,4385,4385,4389,4394,4398,4406,4412,4414,4417,4418,4419,4419,4420,4420,4421,4423,4425,4425,4434,4435,4435,4439,4439,4442,4443,4443,4454,4455,4455,4455,4458,4460,4468,4471,4478,4480,4481,4484,4488,4489,4495,4499,4503,4504,4507,4513,4519,4520,4523,4523,4523,4523,4523,4523,4525,4526,4527,4528,4536,4540,4541,4545,4548,4551,4551,4551,4551,4554,4556,4566,4578,4579,4582,4582,4582,4582,4582,4582,4582,4583,4583,4583,4584,4588,4589,4590,4598,4599,4600,4600,4601,4614,4614,4616,4618,4619,4626,4626,4627,4629,4636,4639,4639,4639,4639,4639,4639,4647,4660,4666,4669,4670,4671,4671,4671,4671,4674,4675,4675,4681,4682,4683,4683,4685,4687,4688,4692,4697,4698,4700,4701,4701,4701,4701,4702,4702,4703,4703,4705,4705,4707,4707,4715,4716,4718,4722,4724,4727,4727,4729,4731,4734,4735,4736,4737,4740,4742,4745,4747,4747,4749,4751,4760,4761,4761,4761,4765,4766,4767,4768,4768,4771,4776,4776,4776,4776,4779,4781,4789,4799,4799,4799,4800,4802,4802,4805,4806,4809,4811,4812,4816,4820,4820,4821,4824,4825,4826,4833,4833,4834,4835,4839,4843,4843,4844,4849,4852,4854,4855,4855,4858,4859,4860,4861,4865,4867,4869,4872,4877,4894,4905,4906,4907,4908,4914,4919,4921,4922,4926,4928,4931,4935,4935,4935,4936,4947,4948,4949,4949,4953,4955,4957,4959,4960,4962,4966,4966,4967,4968,4969,4969,4971,4976,4982,4984,4984,4985,4986,4988,4993,4994,5001,5002,5011,5022,5024,5024,5024,5024,5024,5026,5029,5029,5030,5031,5031,5033,5033,5037,5038,5038,5041,5043,5043,5043,5045,5046,5047,5049,5053,5054,5055,5056,5056,5066,5071,5075,5077,5078,5079,5081,5082,5086,5086,5092,5094,5094,5096,5096,5098,5098,5098,5099,5100,5101,5102,5107,5110,5113,5114,5117,5118,5119,5121,5123,5131,5131,5134,5135,5139,5141,5143,5147,5149,5149,5150,5153,5155,5159,5159,5164,5164,5168,5169,5172,5178,5183,5189,5191,5195,5200,5203,5203,5212,5215,5219,5219,5222,5228,5228,5231,5232,5232,5233,5237,5241,5241,5245,5259,5261,5263,5267,5267,5267,5270,5283,5284,5285,5286,5289,5293,5293,5294,5295,5296,5302,5306,5306,5308,5308,5308,5309,5311,5317,5317,5318,5318,5319,5321,5324,5328,5329,5329,5329,5329,5329,5329,5329,5332,5335,5335,5335,5335,5336,5338,5339,5339,5339,5342,5349,5352,5357,5357,5357,5357,5358,5364,5369,5369,5369,5370,5371,5371,5371,5371,5373,5376,5376,5377,5381,5382,5382,5386,5391,5393,5398,5399,5400,5403,5405,5407,5409,5417,5419,5426,5428,5428,5429,5432,5433,5439,5442,5444,5448,5449,5456,5460,5461,5464,5473,5473,5481,5482,5482,5486,5493,5495,5498,5498,5502,5503,5505,5505,5505,5513,5513,5513,5513,5516,5518,5519,5525,5532,5533,5534,5542,5547,5548,5549,5553,5553,5554,5558,5562,5562,5564,5565,5567,5570,5576,5577,5577,5577,5577,5577,5579,5584,5584,5588,5588,5588,5588,5588,5590,5593,5597,5600,5604,5605,5607,5612,5617,5620,5620,5621,5624,5630,5632,5633,5634,5635,5636,5638,5641,5649,5654,5656,5657,5658,5660,5664,5664,5664,5664,5665,5666,5668,5669,5670,5672,5675,5676,5678,5678,5682,5683,5690,5691,5694,5697,5699,5703,5708,5715,5715,5720,5720,5731,5731,5734,5734,5741,5743,5745,5749,5752,5753,5754,5759,5760,5762,5766,5770,5774,5775,5782,5782,5782,5782,5784,5787,5787,5787,5789,5789,5797,5798,5801,5803,5805,5807,5815,5815,5815,5815,5830,5832,5833,5838,5841,5841,5841,5845,5850,5851,5851,5853,5862,5864,5865,5866,5870,5872,5873,5873,5873,5881,5883,5884,5892,5893,5893,5895,5896,5899,5904,5904,5910,5911,5911,5911,5911,5911,5911,5914,5917,5918,5926,5929,5932,5935,5936,5936,5936,5936,5936,5937,5940,5942,5942,5943,5948,5958,5961,5961,5962,5964,5964,5966,5966,5978,5978,5979,5982,5996,5997,5997,6002,6005,6005,6005,6005,6005,6009,6009,6012,6013,6018,6021,6023,6037,6044,6044,6046,6050,6051,6051,6053,6056,6057,6060,6063,6072,6074,6074,6074,6078,6079,6081,6081,6081,6081,6083,6084,6088,6089,6093,6097,6100,6104,6113,6114,6119,6119,6119,6125,6129,6131,6134,6140,6142,6142,6144,6147,6151,6151,6154,6159,6160,6160,6161,6164,6165,6177,6183,6185,6187,6188,6190,6193,6193,6193,6193,6195,6196,6197,6198,6202,6203,6204,6209,6209,6210,6212,6214,6217,6217,6221,6226,6231,6231,6231,6233,6233,6233,6235,6240,6242,6244,6244,6247,6255,6257,6257,6257,6258,6259,6260,6260,6261,6261,6267,6267,6267,6267,6267,6267,6269,6269,6269,6272,6272,6275,6278,6278,6284,6286,6286,6287,6287,6288,6288,6288,6288,6291,6294,6295,6295,6298,6303,6306,6307,6310,6311,6312,6312,6314,6329,6332,6332,6332,6332,6332,6332,6332,6332,6333,6336,6337,6342,6342,6345,6345,6350,6352,6352,6358,6358,6359,6362,6364,6375,6377,6379,6382,6383,6383,6383,6384,6386,6387,6389,6391,6391,6392,6393,6395,6401,6401,6403,6410,6410,6417,6420,6423,6425,6425,6426,6427,6429,6435,6438,6440,6441,6445,6460,6465,6466,6467,6469,6474,6476,6479,6479,6483,6484,6486,6491,6491,6491,6495,6496,6496,6497,6498,6499,6499,6499,6499,6499,6499,6499,6499,6504,6504,6505,6506,6506,6507,6515,6516,6516,6518,6519,6521,6524,6527,6528,6532,6533,6533,6534,6536,6537,6538,6542,6543,6550,6551,6554,6555,6559,6559,6559,6564,6564,6566,6571,6575,6576,6577,6577,6577,6579,6581,6584,6586,6587,6589,6596,6596,6597,6600,6600,6605,6605,6607,6610,6612,6612,6612,6612,6612,6612,6615,6617,6617,6617,6619,6627,6629,6632,6636,6640,6644,6648,6651,6653,6657,6658,6658,6658,6661,6666,6677,6678,6678,6679,6682,6682,6685,6686,6687,6688,6689,6689,6690,6695,6696,6700,6700,6701,6703,6704,6705,6710,6712,6714,6715,6716,6717,6723,6728,6732,6733,6735,6737,6738,6738,6740,6743,6752,6752,6752,6755,6759,6767,6767,6768,6769,6770,6770,6770,6771,6772,6772,6777,6781,6783,6785,6790,6791,6793,6793,6795,6797,6803,6804,6807,6807,6809,6811,6812,6812,6815,6819,6819,6819,6823,6828,6830,6835,6835,6836,6838,6838,6838,6842,6845,6846,6847,6849,6852,6852,6855,6856,6860,6867,6870,6872,6874,6875,6875,6875,6876,6876,6876,6877,6878,6881,6884,6886,6888,6888,6888,6888,6890,6897,6904,6904,6904,6909,6914,6916,6919,6922,6923,6927,6933,6933,6935,6936,6936,6936,6938,6941,6942,6948,6952,6953,6955,6956,6958,6959,6959,6959,6961,6961,6965,6969,6974,6975,6983,6983,6986,6986,6986,6986,6986,6986,6986,6986,6989,6993,7000,7003,7009,7009,7012,7023,7024,7030,7033,7035,7043,7046,7046,7046,7054,7054,7055,7063,7063,7064,7065,7066,7066,7067,7067,7067,7070,7075,7076,7081,7081,7100,7100,7101,7101,7102,7103,7103,7107,7108,7112,7115,7122,7123,7124,7124,7124,7125,7129,7130,7130,7130,7130,7130,7130,7130,7131,7135,7135,7135,7135,7136,7138,7139,7141,7145,7146,7147,7150,7150,7153,7154,7158,7163,7163,7163,7164,7169,7172,7172,7174,7178,7183,7185,7195,7196,7198,7201,7204,7209,7209,7211,7212,7213,7220,7222,7223,7228,7231,7237,7239,7241,7241,7243,7243,7243,7243,7243,7244,7245,7248,7248,7251,7254,7262,7263,7264,7265,7266,7266,7266,7269,7269,7272,7275,7281,7282,7286,7287,7288,7291,7293,7294,7295,7295,7299,7308,7312,7315,7316,7317,7318,7319,7319,7319,7325,7329,7329,7329,7333,7335,7345,7348,7348,7348,7349,7352,7354,7354,7354,7354,7354,7354,7355,7357,7362,7363,7364,7368,7369,7373,7373,7375,7378,7380,7380,7380,7380,7381,7382,7383,7383,7384,7386,7389,7397,7400,7404,7407,7409,7409,7412,7413,7413,7414,7415,7417,7417,7420,7421,7421,7423,7423,7424,7426,7426,7426,7433,7434,7439,7439,7440,7441,7443,7451,7454,7463,7465,7466,7467,7468,7469,7470,7471,7471,7473,7473,7474,7476,7480,7482,7482,7489,7489,7489,7491,7493,7497,7511,7516,7519,7526,7528,7528,7528,7528,7530,7530,7530,7530,7532,7537,7539,7539,7540,7541,7541,7541,7546,7547,7548,7551,7554,7555,7556,7556,7556,7556,7557,7557,7557,7558,7558,7562,7564,7566,7570,7570,7571,7575,7581,7582,7582,7582,7582,7582,7587,7589,7590,7591,7591,7593,7597,7597,7597,7597,7597,7597,7597,7600,7600,7602,7603,7607,7610,7610,7611,7611,7612,7612,7613,7615,7617,7619,7629,7629,7629,7636,7637,7637,7637,7638,7642,7645,7648,7651,7653,7654,7655,7657,7658,7659,7662,7663,7664,7668,7672,7673,7674,7675,7681,7685,7686,7695,7701,7704,7706,7718,7722,7725,7726,7730,7732,7733,7734,7735,7737,7740,7740,7745,7750,7756,7758,7759,7762,7765,7765,7765,7766,7772,7779,7781,7792,7792,7792,7792,7792,7794,7795,7795,7796,7798,7798,7799,7804,7807,7811,7814,7817,7819,7822,7823,7825,7825,7825,7826,7827,7836,7838,7844,7846,7846,7854,7855,7857,7860,7862,7867,7869,7874,7874,7876,7880,7880,7887,7893,7893,7893,7893,7893,7896,7898,7900,7906,7909,7909,7911,7912,7915,7915,7915,7917,7921,7921,7923,7925,7927,7927,7927,7928,7931,7932,7933,7934,7934,7934,7938,7942,7942,7948,7951,7953,7956,7959,7961,7963,7963,7963,7964,7965,7966,7969,7971,7971,7975,7977,7978,7978,7979,7980,7991,7991,7991,7991,7992,7997,7998,7998,7998,7998,8001,8002,8008,8009,8011,8013,8017,8022,8028,8033,8039,8039,8040,8041,8041,8044,8045,8047,8048,8051,8051,8061,8061,8062,8065,8070,8073,8074,8080,8090,8093,8095,8096,8099,8100,8101,8104,8109,8110,8111,8113,8113,8113,8113,8114,8125,8125,8126,8127,8132,8134,8142,8145,8146,8151,8154,8155,8160,8163,8166,8169,8170,8172,8174,8179,8180,8181,8181,8181,8183,8184,8185,8187,8188,8193,8195,8196,8196,8198,8201,8206,8215,8223,8228,8230,8234,8236,8240,8241,8245,8245,8246,8249,8250,8253,8256,8258,8262,8263,8269,8274,8278,8283,8284,8284,8285,8286,8290,8293,8296,8299,8304,8304,8304,8305,8305,8305,8308,8309,8311,8312,8325,8325,8327,8331,8337,8340,8340,8340,8347,8349,8350,8351,8352,8353,8355,8357,8357,8358,8359,8361,8361,8361,8361,8361,8364,8367,8370,8370,8372,8385,8385,8385,8387,8389,8391,8396,8399,8400,8400,8400,8402,8402,8402,8408,8408,8412,8413,8415,8417,8422,8424,8425,8425,8426,8426,8428,8434,8435,8436,8439,8440,8440,8440,8443,8443,8445,8445,8445,8446,8450,8450,8450,8453,8455,8461,8464,8464,8473,8473,8478,8478,8484,8485,8488,8490,8496,8497,8498,8499,8501,8505,8507,8510,8510,8513,8515,8517,8517,8518,8519,8520,8520,8525,8525,8526,8526,8527,8529,8531,8532,8533,8534,8534,8534,8534,8538,8543,8543,8543,8543,8543,8543,8543,8543,8546,8547,8550,8553,8555,8555,8555,8558,8562,8563,8564,8565,8565,8565,8567,8567,8567,8568,8568,8575,8576,8578,8579,8582,8583,8583,8590,8591,8593,8600,8601,8608,8621,8622,8625,8627,8630,8632,8632,8647,8648,8648,8648,8649,8651,8652,8655,8660,8662,8665,8666,8676,8677,8677,8677,8678,8678,8679,8682,8686,8689,8690,8690,8692,8692,8692,8697,8698,8699,8702,8705,8706,8707,8711,8713,8713,8715,8718,8724,8725,8726,8730,8731,8737,8738,8739,8740,8742,8745,8746,8747,8747,8748,8748,8756,8758,8758,8761,8763,8763,8763,8765,8767,8767,8768,8768,8768,8775,8777,8778,8778,8784,8788,8792,8793,8793,8793,8793,8793,8795,8800,8800,8800,8800,8800,8803,8804,8804,8804,8804,8804,8810,8814,8829,8832,8837,8839,8839,8846,8846,8847,8851,8855,8857,8859,8866,8870,8870,8873,8873,8873,8875,8875,8875,8877,8877,8879,8882,8887,8888,8893,8893,8895,8895,8898,8908,8909,8911,8912,8913,8913,8913,8914,8915,8916,8917,8921,8924,8925,8925,8925,8925,8925,8925,8927,8929,8931,8933,8934,8935,8936,8943,8946,8949,8950,8951,8952,8953,8957,8958,8960,8960,8960,8962,8963,8965,8971,8974,8979,8980,8980,8980,8980,8980,8980,8980,8984,8990,8991,8994,8994,8995,9000,9002,9005,9016,9016,9016,9016,9016,9017,9022,9022,9022,9025,9025,9027,9033,9039,9040,9044,9045,9045,9047,9050,9051,9053,9053,9054,9055,9056,9058,9062,9062,9063,9065,9067,9067,9070,9070,9082,9083,9083,9086,9086,9087,9088,9090,9091,9092,9093,9095,9096,9096,9100,9102,9105,9109,9113,9117,9121,9123,9133,9135,9138,9143,9143,9143,9146,9146,9146,9147,9153,9154,9155,9155,9155,9155,9162,9162,9162,9166,9171,9177,9177,9182,9187,9187,9191,9198,9200,9204,9206,9206,9206,9207,9209,9210,9212,9212,9214,9215,9216,9223,9223,9228,9229,9232,9236,9238,9238,9238,9238,9238,9238,9238,9240,9243,9245,9249,9255,9258,9260,9262,9263,9265,9266,9266,9269,9271,9273,9277],\"type\":\"histogram\",\"xaxis\":\"x2\",\"yaxis\":\"y2\"},{\"name\":\"PassengerGroupNum\",\"nbinsx\":50,\"x\":[1,1,1,1,1,1,1,1,2,1,1,1,2,1,1,2,3,1,2,3,1,1,1,2,3,1,1,1,1,1,1,1,1,1,1,1,1,1,1,2,1,1,1,2,1,1,1,1,1,1,1,1,2,1,1,1,1,1,1,2,3,1,1,1,2,1,1,1,1,1,1,2,1,1,1,1,1,1,2,3,4,5,1,1,1,1,1,1,1,2,3,1,1,1,1,2,1,1,1,1,1,2,3,4,1,2,1,1,1,1,2,1,1,1,1,1,2,3,1,2,1,2,1,1,1,2,3,1,2,1,2,1,1,1,1,1,1,1,1,1,1,1,1,1,1,1,2,1,1,1,1,1,1,1,2,3,4,5,6,7,8,1,2,1,2,1,2,3,4,5,6,1,1,2,1,1,1,2,3,1,2,1,1,1,2,1,1,1,1,1,1,1,1,1,1,1,1,2,3,1,1,1,1,1,1,1,1,1,1,1,1,2,3,4,1,1,1,2,1,1,2,1,1,1,2,1,1,1,1,2,1,2,3,4,5,6,1,2,1,1,1,1,1,1,1,1,1,2,3,1,2,1,1,2,1,1,1,1,1,2,1,1,2,1,1,2,1,2,1,1,1,1,1,1,1,2,1,1,1,2,3,1,1,1,1,2,3,1,2,3,1,1,2,3,1,2,1,2,1,1,1,2,3,4,5,1,1,1,2,1,1,2,1,1,1,1,1,1,1,1,1,1,1,2,1,1,1,2,3,4,5,6,7,1,2,3,1,1,1,1,1,1,2,1,1,1,1,2,1,1,1,1,2,1,1,1,1,1,2,3,1,2,3,1,1,2,1,1,2,3,1,2,3,4,5,6,1,2,1,1,1,1,1,1,1,1,1,1,1,1,1,2,3,1,1,1,2,1,2,1,1,1,1,1,1,1,1,1,1,1,2,1,1,1,2,3,1,1,1,2,1,1,2,1,2,3,1,2,1,2,1,1,2,3,1,1,1,1,2,1,1,1,2,3,1,1,1,1,1,1,1,1,1,2,3,1,2,1,1,1,1,1,1,1,1,1,1,1,1,1,2,1,2,1,1,2,1,1,1,1,1,1,1,1,1,1,1,1,1,1,1,2,1,1,2,1,1,1,1,2,3,4,5,6,7,8,1,1,2,1,1,1,2,1,1,1,1,1,1,2,1,1,1,2,3,1,2,3,4,5,1,2,1,1,1,2,3,1,2,1,1,2,1,1,2,3,4,1,2,1,1,1,1,2,3,4,1,1,1,2,1,2,3,1,1,1,1,1,1,1,2,3,1,2,1,1,1,2,1,1,2,1,1,1,1,2,3,4,1,2,1,2,1,2,1,2,1,2,1,1,1,1,1,1,1,1,1,1,1,2,3,4,1,2,1,1,1,1,1,1,1,1,1,1,1,1,1,2,3,1,1,1,1,1,1,1,2,1,2,3,1,2,3,4,1,1,1,1,2,1,1,2,3,1,2,3,1,1,1,2,1,2,3,4,5,6,7,1,2,1,1,2,1,1,2,1,1,2,3,1,1,1,1,1,1,1,1,1,2,1,1,1,2,3,1,1,2,1,1,1,1,1,1,1,1,1,1,1,1,2,1,1,2,3,4,5,1,1,2,1,1,1,2,1,1,1,1,1,2,1,2,1,1,2,1,1,2,1,2,3,4,1,1,1,1,1,1,1,1,1,2,1,1,1,1,2,1,1,1,2,1,1,1,2,1,2,1,1,1,2,1,1,1,1,1,1,1,2,1,1,1,2,1,1,2,1,2,1,1,1,1,1,1,1,1,1,1,1,2,3,4,5,6,1,1,1,1,1,1,1,1,1,2,1,1,1,1,1,2,1,1,1,1,2,3,1,1,1,1,1,1,1,1,1,1,1,2,3,1,1,1,1,2,3,1,1,1,1,2,1,1,1,1,1,1,2,1,1,1,1,1,1,2,1,2,1,2,1,1,1,2,1,1,2,3,1,1,1,1,1,2,1,1,1,2,1,1,1,1,1,1,1,2,1,2,3,4,1,1,2,3,1,1,1,1,1,1,1,1,1,1,1,1,1,1,2,3,1,2,3,4,1,1,2,3,1,1,1,1,2,1,1,1,1,1,1,1,1,1,2,1,1,2,1,1,1,1,1,1,1,1,1,1,1,1,2,1,1,1,1,2,1,1,1,2,1,2,1,1,1,1,2,3,1,1,1,1,1,2,1,2,3,1,2,1,2,3,1,1,1,1,1,2,3,4,5,1,1,1,2,3,4,5,1,1,2,1,1,1,1,2,3,1,1,1,2,1,1,2,1,1,1,2,1,1,1,2,1,1,1,1,2,3,1,1,1,1,1,1,1,1,1,2,1,1,1,1,1,1,1,1,1,1,1,1,1,1,1,1,2,3,1,1,1,2,1,2,1,1,1,1,1,2,1,1,1,1,2,1,1,1,1,1,1,1,1,1,1,2,3,4,5,1,1,1,1,1,1,1,1,1,1,1,1,2,1,2,1,1,2,3,1,2,1,1,1,2,3,4,1,1,1,1,2,3,4,1,1,1,2,1,2,1,1,2,1,1,2,1,1,2,3,1,1,1,1,1,1,1,1,2,1,2,3,4,5,6,1,1,2,3,1,2,1,1,1,1,2,1,1,1,1,1,1,2,1,1,2,1,2,1,2,1,1,2,3,1,1,2,1,2,1,1,1,1,1,1,1,1,1,1,1,1,2,1,1,1,1,1,1,1,2,1,1,1,1,1,1,2,1,1,1,1,1,2,1,1,2,1,1,1,1,1,1,1,1,1,1,1,1,2,3,1,1,2,3,1,1,1,1,1,1,1,2,3,4,5,1,1,1,2,1,1,1,1,1,2,1,1,1,1,2,1,1,2,1,2,1,2,3,1,1,1,1,1,1,1,1,1,2,1,1,1,1,1,1,1,1,1,1,2,3,4,5,6,7,1,1,1,1,2,1,2,3,1,1,1,1,1,1,1,1,1,1,1,2,1,2,3,1,1,2,3,4,1,1,1,1,2,3,4,1,1,1,1,1,1,1,1,2,1,1,2,1,1,1,1,1,1,1,1,1,1,1,2,1,1,1,1,1,2,3,4,1,1,1,1,1,1,1,1,1,1,2,3,4,1,2,3,1,1,1,1,1,1,1,1,2,3,4,1,1,1,1,2,3,4,5,6,1,1,2,3,4,1,1,1,1,1,2,1,1,1,1,1,1,1,1,1,1,1,1,1,1,1,2,1,2,3,4,1,1,1,1,1,1,1,2,3,1,1,1,1,1,1,2,1,2,1,1,1,1,1,1,1,1,1,2,1,1,1,2,1,1,2,1,1,1,1,1,1,1,1,1,1,1,1,1,2,1,1,1,1,1,1,1,1,1,1,1,1,1,1,1,2,3,1,2,1,1,2,1,1,1,1,1,1,1,2,3,4,1,1,1,1,1,1,2,1,1,1,2,1,1,1,1,1,1,1,2,1,1,1,1,1,1,2,1,2,1,2,3,1,1,2,1,2,1,1,1,1,1,2,1,1,1,2,3,4,5,6,7,1,1,1,1,1,1,1,1,1,1,1,1,1,1,2,1,2,3,4,5,6,7,1,1,1,1,1,1,1,2,1,1,1,1,1,1,1,1,1,2,1,1,1,2,1,1,2,1,1,1,1,1,1,1,2,1,2,1,1,2,3,4,1,1,1,1,1,1,1,1,1,1,2,1,1,2,1,1,1,1,1,1,1,2,1,1,1,1,2,3,1,2,3,4,5,6,7,1,1,1,1,2,3,4,5,6,7,1,2,1,1,1,2,3,1,2,3,4,1,2,1,1,1,1,1,2,1,1,1,1,2,1,1,1,2,1,2,3,1,2,3,4,5,6,7,1,1,1,1,1,1,2,1,1,2,3,1,1,2,1,2,1,1,1,1,1,1,1,1,1,2,3,1,1,2,3,4,5,1,2,1,1,2,3,1,1,1,1,1,1,1,1,1,1,2,3,4,1,1,1,2,1,2,1,1,2,1,1,1,1,1,1,1,1,1,2,1,1,1,1,1,2,3,1,2,1,1,1,1,1,1,2,1,1,1,2,3,4,1,1,1,1,1,1,1,2,3,1,1,1,1,1,1,1,1,1,2,1,1,2,1,2,3,1,1,1,1,1,2,1,2,1,1,1,1,1,2,1,1,2,1,2,3,1,1,1,1,1,1,1,1,1,1,1,1,1,1,2,3,4,1,1,1,1,1,1,2,1,2,1,1,1,1,1,1,2,3,1,1,1,2,3,1,1,1,2,1,1,1,2,3,1,2,1,1,1,1,2,3,1,1,1,1,2,1,1,1,1,1,1,1,1,1,1,1,1,2,1,2,1,1,1,1,1,1,1,1,1,1,1,2,1,1,1,1,1,1,1,1,1,2,1,1,1,2,1,2,1,1,1,2,1,2,1,2,1,1,2,1,2,1,1,2,3,1,1,2,1,1,1,1,1,1,1,1,1,2,1,1,2,3,1,1,2,1,1,2,3,1,1,1,1,1,1,1,1,1,1,2,3,4,1,1,1,1,1,2,1,1,1,1,1,1,1,2,3,1,2,1,1,1,2,1,1,2,3,1,1,1,1,1,1,1,1,1,2,1,2,1,1,1,2,1,1,2,1,2,1,1,2,1,1,2,3,1,1,1,1,1,1,1,1,1,1,1,1,1,1,1,1,1,1,1,2,3,4,5,6,1,1,1,1,1,1,1,1,1,1,2,3,4,1,1,1,1,1,1,2,3,4,5,6,7,1,2,3,1,1,1,1,1,1,1,2,1,1,2,1,1,1,1,2,1,1,1,1,2,3,4,5,6,1,1,1,1,1,1,2,3,4,1,1,2,1,1,1,2,1,1,1,1,1,1,1,1,2,3,4,1,2,1,2,1,2,1,2,1,1,1,1,1,1,2,1,1,1,1,1,1,1,1,1,1,2,1,1,1,1,2,3,1,1,1,1,2,1,1,2,3,4,1,1,1,1,2,3,1,1,2,1,1,1,1,1,1,1,2,1,1,1,1,1,2,1,1,1,1,2,1,1,1,1,1,2,1,1,1,1,1,1,1,1,1,1,1,1,1,1,1,1,1,1,1,1,1,1,2,3,1,1,1,1,2,1,1,1,1,1,1,1,2,1,1,1,2,1,1,1,1,2,1,1,1,1,1,1,1,1,1,1,2,3,4,5,1,1,2,1,1,2,1,2,1,1,2,1,1,2,3,1,1,1,1,1,1,1,1,2,1,1,1,1,1,1,1,1,1,2,1,1,2,1,2,1,2,3,1,1,1,1,1,1,1,1,1,1,1,1,1,1,2,1,1,1,1,1,1,1,2,1,1,1,1,2,1,2,1,1,1,1,1,1,1,1,1,1,2,1,1,1,2,1,1,2,1,1,2,1,1,1,2,1,1,1,1,1,2,3,1,1,1,1,1,1,1,2,1,1,1,1,1,2,1,2,3,1,1,1,2,1,2,1,1,1,1,1,2,3,4,5,6,7,1,1,2,3,4,1,1,1,2,3,1,1,1,1,2,3,4,1,1,1,2,3,1,1,2,3,4,1,1,2,1,1,1,2,1,1,1,1,1,1,1,1,1,1,1,1,1,1,2,1,1,1,1,1,1,1,1,1,1,1,1,1,2,1,1,2,1,1,1,1,2,1,1,1,2,3,1,2,3,4,1,1,1,1,1,1,1,1,1,1,1,1,2,1,1,1,2,1,1,1,1,1,1,2,3,4,5,1,1,2,1,2,3,4,5,1,1,1,1,1,1,1,1,1,1,2,1,1,1,1,1,1,1,1,1,1,1,1,1,1,1,1,1,2,3,4,1,1,1,1,1,1,1,1,1,2,1,1,1,1,1,1,1,1,1,1,2,1,2,1,2,1,2,1,1,1,1,1,1,1,1,1,1,1,1,1,1,1,2,3,4,1,1,2,3,1,2,1,1,1,1,1,1,1,2,3,4,1,1,1,1,1,2,3,1,1,1,2,1,1,1,1,1,1,1,1,2,3,1,1,1,1,1,2,1,1,1,1,2,1,1,2,3,4,5,6,1,1,1,1,1,1,1,1,2,3,4,5,1,1,1,2,1,1,1,1,2,1,1,2,1,2,1,2,1,1,1,1,2,1,1,2,3,4,5,1,2,1,1,1,1,1,1,1,2,1,1,1,2,1,1,1,1,1,1,1,2,3,1,1,1,2,3,4,1,1,1,1,1,1,1,1,1,1,1,2,3,1,1,1,1,1,1,2,1,1,1,2,1,1,1,2,1,1,1,1,1,1,1,1,1,1,2,3,4,1,1,1,1,1,1,1,1,2,1,1,1,1,2,1,1,1,2,3,1,2,3,1,1,1,1,2,1,1,1,2,3,1,1,1,2,1,2,1,2,3,4,5,6,1,2,3,1,2,1,1,2,1,1,2,1,2,1,2,3,4,1,1,1,2,1,1,1,1,1,1,1,2,1,1,1,2,3,4,5,6,7,8,1,1,1,1,2,1,2,1,1,2,1,2,1,1,1,1,1,1,1,1,2,3,1,1,1,1,1,2,1,1,1,1,2,1,1,2,1,1,1,1,2,1,1,1,1,1,1,1,1,1,1,1,1,1,1,1,1,2,1,1,1,1,2,3,1,1,2,1,1,1,2,3,4,5,6,7,8,1,2,1,1,2,1,1,1,2,1,1,1,1,1,1,1,1,2,1,1,1,1,1,1,1,1,1,1,1,2,3,1,2,1,1,1,1,1,2,3,1,1,1,1,1,1,1,2,1,1,2,1,2,1,1,1,2,3,4,5,6,1,1,2,3,1,1,1,1,1,1,1,1,1,1,1,1,2,3,1,1,1,1,2,1,1,2,1,1,1,1,1,2,1,1,1,1,2,1,1,1,1,1,1,1,1,1,1,1,1,1,1,1,1,1,2,1,1,1,2,3,1,1,1,2,1,1,1,2,3,1,1,2,1,1,1,1,1,1,1,2,1,1,1,1,1,2,1,1,1,2,1,1,2,3,1,1,1,1,2,1,1,2,3,1,1,1,1,1,1,2,1,1,1,1,1,1,1,1,2,3,1,2,3,1,1,1,1,1,1,2,3,4,1,1,1,2,3,1,1,1,1,1,1,1,1,2,1,1,2,3,1,1,1,1,1,1,1,1,1,1,2,3,1,2,1,1,1,1,1,2,1,2,3,4,5,6,7,8,1,1,1,1,1,2,1,1,1,1,1,1,1,1,2,3,1,2,1,1,2,1,1,1,2,1,2,3,1,1,1,1,2,1,2,1,2,1,1,2,1,1,1,1,1,1,1,2,3,1,1,1,2,3,4,5,6,7,1,1,2,3,4,1,1,1,1,1,1,1,1,2,1,1,1,1,2,3,1,1,1,2,1,1,1,1,1,1,1,1,1,1,2,1,1,1,1,1,1,1,1,1,1,1,2,1,2,3,4,5,1,1,1,2,1,1,1,1,1,1,1,2,3,1,2,1,1,1,1,1,1,1,1,1,1,1,2,1,1,1,1,1,1,1,1,2,3,1,1,2,3,1,1,1,1,2,3,1,1,1,2,3,4,5,6,1,1,1,1,1,1,1,1,2,1,1,1,2,3,4,1,1,1,2,1,1,1,1,1,1,1,1,2,1,1,2,1,1,1,2,1,1,2,1,2,1,1,2,3,1,1,1,2,1,1,1,1,1,1,1,1,1,1,1,1,1,2,1,2,1,1,1,1,2,1,2,3,1,1,1,1,1,1,1,1,2,3,4,1,2,3,4,1,1,1,2,1,1,2,3,1,1,1,1,1,1,1,2,3,4,1,2,3,1,2,1,1,1,1,2,1,1,1,1,2,3,4,5,1,1,1,1,2,1,1,2,3,4,5,6,7,1,2,1,1,1,1,2,1,2,1,2,1,1,1,1,1,2,3,1,1,2,3,1,1,1,1,1,1,1,1,1,1,1,1,1,1,1,1,1,1,1,1,1,1,1,1,1,1,1,1,1,1,1,1,1,1,1,1,1,2,1,1,1,1,1,1,1,2,3,1,1,1,1,1,2,3,4,5,1,1,2,1,1,2,1,1,1,1,1,1,1,1,1,1,2,3,1,1,1,1,1,1,2,1,1,1,1,1,1,1,1,2,1,1,2,1,1,2,3,4,5,1,1,1,1,1,2,1,1,1,2,3,1,1,2,1,1,1,2,3,1,1,1,1,1,2,3,1,1,2,1,1,1,1,1,1,1,2,3,1,1,1,1,1,2,1,1,1,2,1,1,1,2,3,4,1,1,1,2,3,4,1,1,1,1,1,1,1,1,1,1,1,2,1,1,2,1,1,1,1,1,2,1,2,1,1,1,1,1,1,1,1,1,1,1,1,1,1,1,1,1,1,2,3,4,1,1,2,1,1,1,1,1,1,1,1,1,1,1,1,1,1,1,1,1,1,1,1,2,3,1,1,1,1,1,1,1,1,2,1,1,1,1,1,1,1,1,1,1,1,1,2,1,1,1,1,1,1,1,1,1,1,1,1,1,2,1,1,1,1,1,1,1,2,3,1,2,3,1,1,1,1,1,2,1,1,1,1,2,3,1,1,1,1,1,1,1,1,2,1,1,1,2,3,4,5,1,1,1,2,1,1,2,3,1,1,1,1,1,1,2,3,1,2,3,1,2,1,1,1,1,1,1,1,2,1,2,1,1,1,1,1,1,2,3,1,2,1,2,3,1,1,2,3,1,1,1,1,2,1,2,1,2,1,1,1,1,1,1,1,1,1,1,1,1,2,1,1,1,2,1,1,1,2,1,2,1,2,1,1,1,1,1,1,2,3,4,1,1,2,3,4,5,6,7,8,1,1,1,1,1,2,3,1,1,1,1,1,2,3,1,2,3,1,2,1,1,1,1,1,1,2,1,1,1,1,1,1,1,1,1,1,1,1,2,1,1,2,3,1,1,1,1,1,1,1,1,1,1,2,3,1,2,1,1,1,1,1,2,1,2,3,1,1,1,1,1,1,1,1,1,2,1,1,1,1,1,1,1,1,1,1,1,1,1,1,1,2,1,2,1,1,2,1,1,2,3,1,1,2,1,2,3,1,1,1,2,1,1,1,1,2,3,4,5,1,1,2,3,4,5,1,1,2,3,4,5,1,1,1,1,1,1,2,1,2,1,1,1,1,1,1,1,2,1,2,3,1,2,3,1,2,1,1,1,1,1,2,1,2,1,1,1,1,1,1,2,3,1,1,1,1,1,1,1,2,3,4,5,6,1,1,1,1,1,1,1,1,1,1,1,1,1,1,1,1,1,2,3,1,1,1,1,1,1,1,2,3,4,5,6,7,1,1,1,1,2,1,1,1,1,1,2,3,4,5,1,1,2,3,1,2,1,1,1,1,1,1,2,1,1,1,1,2,1,1,1,1,1,2,1,1,1,2,1,2,1,1,2,1,2,1,1,1,1,1,1,1,1,2,1,1,1,1,1,1,1,1,1,1,1,1,2,3,1,2,3,1,1,1,1,2,3,4,1,2,3,1,1,1,2,1,1,2,1,1,1,1,1,2,3,1,1,1,1,2,1,1,1,1,2,1,1,1,1,1,2,3,4,5,6,7,1,1,1,1,1,1,1,1,1,1,1,2,1,1,1,1],\"type\":\"histogram\",\"xaxis\":\"x3\",\"yaxis\":\"y3\"}],                        {\"template\":{\"data\":{\"histogram2dcontour\":[{\"type\":\"histogram2dcontour\",\"colorbar\":{\"outlinewidth\":0,\"ticks\":\"\"},\"colorscale\":[[0.0,\"#0d0887\"],[0.1111111111111111,\"#46039f\"],[0.2222222222222222,\"#7201a8\"],[0.3333333333333333,\"#9c179e\"],[0.4444444444444444,\"#bd3786\"],[0.5555555555555556,\"#d8576b\"],[0.6666666666666666,\"#ed7953\"],[0.7777777777777778,\"#fb9f3a\"],[0.8888888888888888,\"#fdca26\"],[1.0,\"#f0f921\"]]}],\"choropleth\":[{\"type\":\"choropleth\",\"colorbar\":{\"outlinewidth\":0,\"ticks\":\"\"}}],\"histogram2d\":[{\"type\":\"histogram2d\",\"colorbar\":{\"outlinewidth\":0,\"ticks\":\"\"},\"colorscale\":[[0.0,\"#0d0887\"],[0.1111111111111111,\"#46039f\"],[0.2222222222222222,\"#7201a8\"],[0.3333333333333333,\"#9c179e\"],[0.4444444444444444,\"#bd3786\"],[0.5555555555555556,\"#d8576b\"],[0.6666666666666666,\"#ed7953\"],[0.7777777777777778,\"#fb9f3a\"],[0.8888888888888888,\"#fdca26\"],[1.0,\"#f0f921\"]]}],\"heatmap\":[{\"type\":\"heatmap\",\"colorbar\":{\"outlinewidth\":0,\"ticks\":\"\"},\"colorscale\":[[0.0,\"#0d0887\"],[0.1111111111111111,\"#46039f\"],[0.2222222222222222,\"#7201a8\"],[0.3333333333333333,\"#9c179e\"],[0.4444444444444444,\"#bd3786\"],[0.5555555555555556,\"#d8576b\"],[0.6666666666666666,\"#ed7953\"],[0.7777777777777778,\"#fb9f3a\"],[0.8888888888888888,\"#fdca26\"],[1.0,\"#f0f921\"]]}],\"heatmapgl\":[{\"type\":\"heatmapgl\",\"colorbar\":{\"outlinewidth\":0,\"ticks\":\"\"},\"colorscale\":[[0.0,\"#0d0887\"],[0.1111111111111111,\"#46039f\"],[0.2222222222222222,\"#7201a8\"],[0.3333333333333333,\"#9c179e\"],[0.4444444444444444,\"#bd3786\"],[0.5555555555555556,\"#d8576b\"],[0.6666666666666666,\"#ed7953\"],[0.7777777777777778,\"#fb9f3a\"],[0.8888888888888888,\"#fdca26\"],[1.0,\"#f0f921\"]]}],\"contourcarpet\":[{\"type\":\"contourcarpet\",\"colorbar\":{\"outlinewidth\":0,\"ticks\":\"\"}}],\"contour\":[{\"type\":\"contour\",\"colorbar\":{\"outlinewidth\":0,\"ticks\":\"\"},\"colorscale\":[[0.0,\"#0d0887\"],[0.1111111111111111,\"#46039f\"],[0.2222222222222222,\"#7201a8\"],[0.3333333333333333,\"#9c179e\"],[0.4444444444444444,\"#bd3786\"],[0.5555555555555556,\"#d8576b\"],[0.6666666666666666,\"#ed7953\"],[0.7777777777777778,\"#fb9f3a\"],[0.8888888888888888,\"#fdca26\"],[1.0,\"#f0f921\"]]}],\"surface\":[{\"type\":\"surface\",\"colorbar\":{\"outlinewidth\":0,\"ticks\":\"\"},\"colorscale\":[[0.0,\"#0d0887\"],[0.1111111111111111,\"#46039f\"],[0.2222222222222222,\"#7201a8\"],[0.3333333333333333,\"#9c179e\"],[0.4444444444444444,\"#bd3786\"],[0.5555555555555556,\"#d8576b\"],[0.6666666666666666,\"#ed7953\"],[0.7777777777777778,\"#fb9f3a\"],[0.8888888888888888,\"#fdca26\"],[1.0,\"#f0f921\"]]}],\"mesh3d\":[{\"type\":\"mesh3d\",\"colorbar\":{\"outlinewidth\":0,\"ticks\":\"\"}}],\"scatter\":[{\"fillpattern\":{\"fillmode\":\"overlay\",\"size\":10,\"solidity\":0.2},\"type\":\"scatter\"}],\"parcoords\":[{\"type\":\"parcoords\",\"line\":{\"colorbar\":{\"outlinewidth\":0,\"ticks\":\"\"}}}],\"scatterpolargl\":[{\"type\":\"scatterpolargl\",\"marker\":{\"colorbar\":{\"outlinewidth\":0,\"ticks\":\"\"}}}],\"bar\":[{\"error_x\":{\"color\":\"#2a3f5f\"},\"error_y\":{\"color\":\"#2a3f5f\"},\"marker\":{\"line\":{\"color\":\"#E5ECF6\",\"width\":0.5},\"pattern\":{\"fillmode\":\"overlay\",\"size\":10,\"solidity\":0.2}},\"type\":\"bar\"}],\"scattergeo\":[{\"type\":\"scattergeo\",\"marker\":{\"colorbar\":{\"outlinewidth\":0,\"ticks\":\"\"}}}],\"scatterpolar\":[{\"type\":\"scatterpolar\",\"marker\":{\"colorbar\":{\"outlinewidth\":0,\"ticks\":\"\"}}}],\"histogram\":[{\"marker\":{\"pattern\":{\"fillmode\":\"overlay\",\"size\":10,\"solidity\":0.2}},\"type\":\"histogram\"}],\"scattergl\":[{\"type\":\"scattergl\",\"marker\":{\"colorbar\":{\"outlinewidth\":0,\"ticks\":\"\"}}}],\"scatter3d\":[{\"type\":\"scatter3d\",\"line\":{\"colorbar\":{\"outlinewidth\":0,\"ticks\":\"\"}},\"marker\":{\"colorbar\":{\"outlinewidth\":0,\"ticks\":\"\"}}}],\"scattermapbox\":[{\"type\":\"scattermapbox\",\"marker\":{\"colorbar\":{\"outlinewidth\":0,\"ticks\":\"\"}}}],\"scatterternary\":[{\"type\":\"scatterternary\",\"marker\":{\"colorbar\":{\"outlinewidth\":0,\"ticks\":\"\"}}}],\"scattercarpet\":[{\"type\":\"scattercarpet\",\"marker\":{\"colorbar\":{\"outlinewidth\":0,\"ticks\":\"\"}}}],\"carpet\":[{\"aaxis\":{\"endlinecolor\":\"#2a3f5f\",\"gridcolor\":\"white\",\"linecolor\":\"white\",\"minorgridcolor\":\"white\",\"startlinecolor\":\"#2a3f5f\"},\"baxis\":{\"endlinecolor\":\"#2a3f5f\",\"gridcolor\":\"white\",\"linecolor\":\"white\",\"minorgridcolor\":\"white\",\"startlinecolor\":\"#2a3f5f\"},\"type\":\"carpet\"}],\"table\":[{\"cells\":{\"fill\":{\"color\":\"#EBF0F8\"},\"line\":{\"color\":\"white\"}},\"header\":{\"fill\":{\"color\":\"#C8D4E3\"},\"line\":{\"color\":\"white\"}},\"type\":\"table\"}],\"barpolar\":[{\"marker\":{\"line\":{\"color\":\"#E5ECF6\",\"width\":0.5},\"pattern\":{\"fillmode\":\"overlay\",\"size\":10,\"solidity\":0.2}},\"type\":\"barpolar\"}],\"pie\":[{\"automargin\":true,\"type\":\"pie\"}]},\"layout\":{\"autotypenumbers\":\"strict\",\"colorway\":[\"#636efa\",\"#EF553B\",\"#00cc96\",\"#ab63fa\",\"#FFA15A\",\"#19d3f3\",\"#FF6692\",\"#B6E880\",\"#FF97FF\",\"#FECB52\"],\"font\":{\"color\":\"#2a3f5f\"},\"hovermode\":\"closest\",\"hoverlabel\":{\"align\":\"left\"},\"paper_bgcolor\":\"white\",\"plot_bgcolor\":\"#E5ECF6\",\"polar\":{\"bgcolor\":\"#E5ECF6\",\"angularaxis\":{\"gridcolor\":\"white\",\"linecolor\":\"white\",\"ticks\":\"\"},\"radialaxis\":{\"gridcolor\":\"white\",\"linecolor\":\"white\",\"ticks\":\"\"}},\"ternary\":{\"bgcolor\":\"#E5ECF6\",\"aaxis\":{\"gridcolor\":\"white\",\"linecolor\":\"white\",\"ticks\":\"\"},\"baxis\":{\"gridcolor\":\"white\",\"linecolor\":\"white\",\"ticks\":\"\"},\"caxis\":{\"gridcolor\":\"white\",\"linecolor\":\"white\",\"ticks\":\"\"}},\"coloraxis\":{\"colorbar\":{\"outlinewidth\":0,\"ticks\":\"\"}},\"colorscale\":{\"sequential\":[[0.0,\"#0d0887\"],[0.1111111111111111,\"#46039f\"],[0.2222222222222222,\"#7201a8\"],[0.3333333333333333,\"#9c179e\"],[0.4444444444444444,\"#bd3786\"],[0.5555555555555556,\"#d8576b\"],[0.6666666666666666,\"#ed7953\"],[0.7777777777777778,\"#fb9f3a\"],[0.8888888888888888,\"#fdca26\"],[1.0,\"#f0f921\"]],\"sequentialminus\":[[0.0,\"#0d0887\"],[0.1111111111111111,\"#46039f\"],[0.2222222222222222,\"#7201a8\"],[0.3333333333333333,\"#9c179e\"],[0.4444444444444444,\"#bd3786\"],[0.5555555555555556,\"#d8576b\"],[0.6666666666666666,\"#ed7953\"],[0.7777777777777778,\"#fb9f3a\"],[0.8888888888888888,\"#fdca26\"],[1.0,\"#f0f921\"]],\"diverging\":[[0,\"#8e0152\"],[0.1,\"#c51b7d\"],[0.2,\"#de77ae\"],[0.3,\"#f1b6da\"],[0.4,\"#fde0ef\"],[0.5,\"#f7f7f7\"],[0.6,\"#e6f5d0\"],[0.7,\"#b8e186\"],[0.8,\"#7fbc41\"],[0.9,\"#4d9221\"],[1,\"#276419\"]]},\"xaxis\":{\"gridcolor\":\"white\",\"linecolor\":\"white\",\"ticks\":\"\",\"title\":{\"standoff\":15},\"zerolinecolor\":\"white\",\"automargin\":true,\"zerolinewidth\":2},\"yaxis\":{\"gridcolor\":\"white\",\"linecolor\":\"white\",\"ticks\":\"\",\"title\":{\"standoff\":15},\"zerolinecolor\":\"white\",\"automargin\":true,\"zerolinewidth\":2},\"scene\":{\"xaxis\":{\"backgroundcolor\":\"#E5ECF6\",\"gridcolor\":\"white\",\"linecolor\":\"white\",\"showbackground\":true,\"ticks\":\"\",\"zerolinecolor\":\"white\",\"gridwidth\":2},\"yaxis\":{\"backgroundcolor\":\"#E5ECF6\",\"gridcolor\":\"white\",\"linecolor\":\"white\",\"showbackground\":true,\"ticks\":\"\",\"zerolinecolor\":\"white\",\"gridwidth\":2},\"zaxis\":{\"backgroundcolor\":\"#E5ECF6\",\"gridcolor\":\"white\",\"linecolor\":\"white\",\"showbackground\":true,\"ticks\":\"\",\"zerolinecolor\":\"white\",\"gridwidth\":2}},\"shapedefaults\":{\"line\":{\"color\":\"#2a3f5f\"}},\"annotationdefaults\":{\"arrowcolor\":\"#2a3f5f\",\"arrowhead\":0,\"arrowwidth\":1},\"geo\":{\"bgcolor\":\"white\",\"landcolor\":\"#E5ECF6\",\"subunitcolor\":\"white\",\"showland\":true,\"showlakes\":true,\"lakecolor\":\"white\"},\"title\":{\"x\":0.05},\"mapbox\":{\"style\":\"light\"}}},\"xaxis\":{\"anchor\":\"y\",\"domain\":[0.0,0.2888888888888889]},\"yaxis\":{\"anchor\":\"x\",\"domain\":[0.9027777777777777,0.9999999999999999]},\"xaxis2\":{\"anchor\":\"y2\",\"domain\":[0.35555555555555557,0.6444444444444445]},\"yaxis2\":{\"anchor\":\"x2\",\"domain\":[0.9027777777777777,0.9999999999999999]},\"xaxis3\":{\"anchor\":\"y3\",\"domain\":[0.7111111111111111,1.0]},\"yaxis3\":{\"anchor\":\"x3\",\"domain\":[0.9027777777777777,0.9999999999999999]},\"xaxis4\":{\"anchor\":\"y4\",\"domain\":[0.0,0.2888888888888889]},\"yaxis4\":{\"anchor\":\"x4\",\"domain\":[0.7222222222222222,0.8194444444444444]},\"xaxis5\":{\"anchor\":\"y5\",\"domain\":[0.35555555555555557,0.6444444444444445]},\"yaxis5\":{\"anchor\":\"x5\",\"domain\":[0.7222222222222222,0.8194444444444444]},\"xaxis6\":{\"anchor\":\"y6\",\"domain\":[0.7111111111111111,1.0]},\"yaxis6\":{\"anchor\":\"x6\",\"domain\":[0.7222222222222222,0.8194444444444444]},\"xaxis7\":{\"anchor\":\"y7\",\"domain\":[0.0,0.2888888888888889]},\"yaxis7\":{\"anchor\":\"x7\",\"domain\":[0.5416666666666667,0.638888888888889]},\"xaxis8\":{\"anchor\":\"y8\",\"domain\":[0.35555555555555557,0.6444444444444445]},\"yaxis8\":{\"anchor\":\"x8\",\"domain\":[0.5416666666666667,0.638888888888889]},\"xaxis9\":{\"anchor\":\"y9\",\"domain\":[0.7111111111111111,1.0]},\"yaxis9\":{\"anchor\":\"x9\",\"domain\":[0.5416666666666667,0.638888888888889]},\"xaxis10\":{\"anchor\":\"y10\",\"domain\":[0.0,0.2888888888888889]},\"yaxis10\":{\"anchor\":\"x10\",\"domain\":[0.3611111111111111,0.4583333333333333]},\"xaxis11\":{\"anchor\":\"y11\",\"domain\":[0.35555555555555557,0.6444444444444445]},\"yaxis11\":{\"anchor\":\"x11\",\"domain\":[0.3611111111111111,0.4583333333333333]},\"xaxis12\":{\"anchor\":\"y12\",\"domain\":[0.7111111111111111,1.0]},\"yaxis12\":{\"anchor\":\"x12\",\"domain\":[0.3611111111111111,0.4583333333333333]},\"xaxis13\":{\"anchor\":\"y13\",\"domain\":[0.0,0.2888888888888889]},\"yaxis13\":{\"anchor\":\"x13\",\"domain\":[0.18055555555555555,0.2777777777777778]},\"xaxis14\":{\"anchor\":\"y14\",\"domain\":[0.35555555555555557,0.6444444444444445]},\"yaxis14\":{\"anchor\":\"x14\",\"domain\":[0.18055555555555555,0.2777777777777778]},\"xaxis15\":{\"anchor\":\"y15\",\"domain\":[0.7111111111111111,1.0]},\"yaxis15\":{\"anchor\":\"x15\",\"domain\":[0.18055555555555555,0.2777777777777778]},\"xaxis16\":{\"anchor\":\"y16\",\"domain\":[0.0,0.2888888888888889]},\"yaxis16\":{\"anchor\":\"x16\",\"domain\":[0.0,0.09722222222222222]},\"xaxis17\":{\"anchor\":\"y17\",\"domain\":[0.35555555555555557,0.6444444444444445]},\"yaxis17\":{\"anchor\":\"x17\",\"domain\":[0.0,0.09722222222222222]},\"xaxis18\":{\"anchor\":\"y18\",\"domain\":[0.7111111111111111,1.0]},\"yaxis18\":{\"anchor\":\"x18\",\"domain\":[0.0,0.09722222222222222]},\"annotations\":[{\"font\":{\"size\":16},\"showarrow\":false,\"text\":\"Transported\",\"x\":0.14444444444444446,\"xanchor\":\"center\",\"xref\":\"paper\",\"y\":0.9999999999999999,\"yanchor\":\"bottom\",\"yref\":\"paper\"},{\"font\":{\"size\":16},\"showarrow\":false,\"text\":\"PassengerGroup\",\"x\":0.5,\"xanchor\":\"center\",\"xref\":\"paper\",\"y\":0.9999999999999999,\"yanchor\":\"bottom\",\"yref\":\"paper\"},{\"font\":{\"size\":16},\"showarrow\":false,\"text\":\"PassengerGroupNum\",\"x\":0.8555555555555556,\"xanchor\":\"center\",\"xref\":\"paper\",\"y\":0.9999999999999999,\"yanchor\":\"bottom\",\"yref\":\"paper\"}],\"width\":1200,\"height\":1500,\"showlegend\":false},                        {\"responsive\": true}                    ).then(function(){\n",
              "                            \n",
              "var gd = document.getElementById('a59fa082-c18b-45d6-8638-54b2de02c637');\n",
              "var x = new MutationObserver(function (mutations, observer) {{\n",
              "        var display = window.getComputedStyle(gd).display;\n",
              "        if (!display || display === 'none') {{\n",
              "            console.log([gd, 'removed!']);\n",
              "            Plotly.purge(gd);\n",
              "            observer.disconnect();\n",
              "        }}\n",
              "}});\n",
              "\n",
              "// Listen for the removal of the full notebook cells\n",
              "var notebookContainer = gd.closest('#notebook-container');\n",
              "if (notebookContainer) {{\n",
              "    x.observe(notebookContainer, {childList: true});\n",
              "}}\n",
              "\n",
              "// Listen for the clearing of the current output cell\n",
              "var outputEl = gd.closest('.output');\n",
              "if (outputEl) {{\n",
              "    x.observe(outputEl, {childList: true});\n",
              "}}\n",
              "\n",
              "                        })                };                            </script>        </div>\n",
              "</body>\n",
              "</html>"
            ]
          },
          "metadata": {}
        }
      ]
    },
    {
      "cell_type": "markdown",
      "source": [
        "Most passengers are young (18-25]. However the baby population (0-2] is fairly high.\n",
        "Most passengers did not Cryosleep.\n",
        "\n",
        "Most passengers are going to TRAPPIST-1e.\n",
        "\n",
        "There are very few VIPs.\n",
        "\n",
        "Passenger group numbers are well distributed.\n",
        "\n",
        "Most groups have only one passenger.\n",
        "\n",
        "Last CabinDecks are more populated.\n",
        "\n",
        "Cabin numbers are concentrated in the first values.\n",
        "\n",
        "All the amenities services have a skewed distribution caused by few very high values.\n",
        "\n",
        "Ideas for data transformations:\n",
        "\n",
        "Age, PassengerGroup and CabinNum can be discretized.\n",
        "\n",
        "Amenities columns are extremely skewed. Applying a log transformation can help.\n",
        "\n",
        "\n"
      ],
      "metadata": {
        "id": "qc7fqFLoY83K"
      }
    },
    {
      "cell_type": "code",
      "source": [
        "fig = make_subplots(5,3, subplot_titles=features)\n",
        "\n",
        "temp = df.copy()\n",
        "for i, feature in enumerate(features):\n",
        "    if feature in ['Transported']: continue\n",
        "    cut = True if temp[feature].nunique() > 10 else False\n",
        "    temp.loc[:, f'{feature}_Bins']  =  pd.cut(temp.loc[:,feature], 10, include_lowest=True, precision=1) if cut else temp.loc[:, feature]\n",
        "    s =  temp.groupby(f'{feature}_Bins').agg(\n",
        "        Transported_=('Transported', lambda x: sum(x)),\n",
        "        Not_Transported=('Transported', lambda x: sum(~x))\n",
        "        )\n",
        "\n",
        "    fig.append_trace(\n",
        "        go.Bar(x=s.index.astype(str), y=s.Transported_, name=r'Transported', showlegend=False, marker_color='rgb(100,100,200)'),\n",
        "        row=i // 3 + 1, col= i % 3 + 1\n",
        "    )\n",
        "    fig.append_trace(\n",
        "        go.Bar(x=s.index.astype(str), y=s.Not_Transported, name=r'Not Transported', showlegend=False, marker_color='rgb(200,100,100)'),\n",
        "        row=i // 3 + 1, col= i % 3 + 1\n",
        "    )\n",
        "    fig.update_layout(height=1500)\n",
        "\n",
        "fig.show()"
      ],
      "metadata": {
        "colab": {
          "base_uri": "https://localhost:8080/",
          "height": 1000
        },
        "id": "-s92FUJsZFMR",
        "outputId": "32a07c20-a4ba-414c-a29e-e75bbc8d1643"
      },
      "execution_count": null,
      "outputs": [
        {
          "output_type": "display_data",
          "data": {
            "text/html": [
              "<html>\n",
              "<head><meta charset=\"utf-8\" /></head>\n",
              "<body>\n",
              "    <div>            <script src=\"https://cdnjs.cloudflare.com/ajax/libs/mathjax/2.7.5/MathJax.js?config=TeX-AMS-MML_SVG\"></script><script type=\"text/javascript\">if (window.MathJax && window.MathJax.Hub && window.MathJax.Hub.Config) {window.MathJax.Hub.Config({SVG: {font: \"STIX-Web\"}});}</script>                <script type=\"text/javascript\">window.PlotlyConfig = {MathJaxConfig: 'local'};</script>\n",
              "        <script src=\"https://cdn.plot.ly/plotly-2.18.2.min.js\"></script>                <div id=\"ce30aaf3-ffd2-4ad4-96b9-3f537268b184\" class=\"plotly-graph-div\" style=\"height:1500px; width:100%;\"></div>            <script type=\"text/javascript\">                                    window.PLOTLYENV=window.PLOTLYENV || {};                                    if (document.getElementById(\"ce30aaf3-ffd2-4ad4-96b9-3f537268b184\")) {                    Plotly.newPlot(                        \"ce30aaf3-ffd2-4ad4-96b9-3f537268b184\",                        [{\"marker\":{\"color\":\"rgb(100,100,200)\"},\"name\":\"Transported\",\"showlegend\":false,\"x\":[\"(3.6, 939.4]\",\"(939.4, 1865.8]\",\"(1865.8, 2792.2]\",\"(2792.2, 3718.6]\",\"(3718.6, 4645.0]\",\"(4645.0, 5571.4]\",\"(5571.4, 6497.8]\",\"(6497.8, 7424.2]\",\"(7424.2, 8350.6]\",\"(8350.6, 9277.0]\"],\"y\":[0,0,0,0,0,0,0,0,0,0],\"type\":\"bar\",\"xaxis\":\"x2\",\"yaxis\":\"y2\"},{\"marker\":{\"color\":\"rgb(200,100,100)\"},\"name\":\"Not Transported\",\"showlegend\":false,\"x\":[\"(3.6, 939.4]\",\"(939.4, 1865.8]\",\"(1865.8, 2792.2]\",\"(2792.2, 3718.6]\",\"(3718.6, 4645.0]\",\"(4645.0, 5571.4]\",\"(5571.4, 6497.8]\",\"(6497.8, 7424.2]\",\"(7424.2, 8350.6]\",\"(8350.6, 9277.0]\"],\"y\":[452,449,398,454,390,402,405,454,408,465],\"type\":\"bar\",\"xaxis\":\"x2\",\"yaxis\":\"y2\"},{\"marker\":{\"color\":\"rgb(100,100,200)\"},\"name\":\"Transported\",\"showlegend\":false,\"x\":[\"1\",\"2\",\"3\",\"4\",\"5\",\"6\",\"7\",\"8\"],\"y\":[0,0,0,0,0,0,0,0],\"type\":\"bar\",\"xaxis\":\"x3\",\"yaxis\":\"y3\"},{\"marker\":{\"color\":\"rgb(200,100,100)\"},\"name\":\"Not Transported\",\"showlegend\":false,\"x\":[\"1\",\"2\",\"3\",\"4\",\"5\",\"6\",\"7\",\"8\"],\"y\":[3063,723,269,107,56,33,20,6],\"type\":\"bar\",\"xaxis\":\"x3\",\"yaxis\":\"y3\"}],                        {\"template\":{\"data\":{\"histogram2dcontour\":[{\"type\":\"histogram2dcontour\",\"colorbar\":{\"outlinewidth\":0,\"ticks\":\"\"},\"colorscale\":[[0.0,\"#0d0887\"],[0.1111111111111111,\"#46039f\"],[0.2222222222222222,\"#7201a8\"],[0.3333333333333333,\"#9c179e\"],[0.4444444444444444,\"#bd3786\"],[0.5555555555555556,\"#d8576b\"],[0.6666666666666666,\"#ed7953\"],[0.7777777777777778,\"#fb9f3a\"],[0.8888888888888888,\"#fdca26\"],[1.0,\"#f0f921\"]]}],\"choropleth\":[{\"type\":\"choropleth\",\"colorbar\":{\"outlinewidth\":0,\"ticks\":\"\"}}],\"histogram2d\":[{\"type\":\"histogram2d\",\"colorbar\":{\"outlinewidth\":0,\"ticks\":\"\"},\"colorscale\":[[0.0,\"#0d0887\"],[0.1111111111111111,\"#46039f\"],[0.2222222222222222,\"#7201a8\"],[0.3333333333333333,\"#9c179e\"],[0.4444444444444444,\"#bd3786\"],[0.5555555555555556,\"#d8576b\"],[0.6666666666666666,\"#ed7953\"],[0.7777777777777778,\"#fb9f3a\"],[0.8888888888888888,\"#fdca26\"],[1.0,\"#f0f921\"]]}],\"heatmap\":[{\"type\":\"heatmap\",\"colorbar\":{\"outlinewidth\":0,\"ticks\":\"\"},\"colorscale\":[[0.0,\"#0d0887\"],[0.1111111111111111,\"#46039f\"],[0.2222222222222222,\"#7201a8\"],[0.3333333333333333,\"#9c179e\"],[0.4444444444444444,\"#bd3786\"],[0.5555555555555556,\"#d8576b\"],[0.6666666666666666,\"#ed7953\"],[0.7777777777777778,\"#fb9f3a\"],[0.8888888888888888,\"#fdca26\"],[1.0,\"#f0f921\"]]}],\"heatmapgl\":[{\"type\":\"heatmapgl\",\"colorbar\":{\"outlinewidth\":0,\"ticks\":\"\"},\"colorscale\":[[0.0,\"#0d0887\"],[0.1111111111111111,\"#46039f\"],[0.2222222222222222,\"#7201a8\"],[0.3333333333333333,\"#9c179e\"],[0.4444444444444444,\"#bd3786\"],[0.5555555555555556,\"#d8576b\"],[0.6666666666666666,\"#ed7953\"],[0.7777777777777778,\"#fb9f3a\"],[0.8888888888888888,\"#fdca26\"],[1.0,\"#f0f921\"]]}],\"contourcarpet\":[{\"type\":\"contourcarpet\",\"colorbar\":{\"outlinewidth\":0,\"ticks\":\"\"}}],\"contour\":[{\"type\":\"contour\",\"colorbar\":{\"outlinewidth\":0,\"ticks\":\"\"},\"colorscale\":[[0.0,\"#0d0887\"],[0.1111111111111111,\"#46039f\"],[0.2222222222222222,\"#7201a8\"],[0.3333333333333333,\"#9c179e\"],[0.4444444444444444,\"#bd3786\"],[0.5555555555555556,\"#d8576b\"],[0.6666666666666666,\"#ed7953\"],[0.7777777777777778,\"#fb9f3a\"],[0.8888888888888888,\"#fdca26\"],[1.0,\"#f0f921\"]]}],\"surface\":[{\"type\":\"surface\",\"colorbar\":{\"outlinewidth\":0,\"ticks\":\"\"},\"colorscale\":[[0.0,\"#0d0887\"],[0.1111111111111111,\"#46039f\"],[0.2222222222222222,\"#7201a8\"],[0.3333333333333333,\"#9c179e\"],[0.4444444444444444,\"#bd3786\"],[0.5555555555555556,\"#d8576b\"],[0.6666666666666666,\"#ed7953\"],[0.7777777777777778,\"#fb9f3a\"],[0.8888888888888888,\"#fdca26\"],[1.0,\"#f0f921\"]]}],\"mesh3d\":[{\"type\":\"mesh3d\",\"colorbar\":{\"outlinewidth\":0,\"ticks\":\"\"}}],\"scatter\":[{\"fillpattern\":{\"fillmode\":\"overlay\",\"size\":10,\"solidity\":0.2},\"type\":\"scatter\"}],\"parcoords\":[{\"type\":\"parcoords\",\"line\":{\"colorbar\":{\"outlinewidth\":0,\"ticks\":\"\"}}}],\"scatterpolargl\":[{\"type\":\"scatterpolargl\",\"marker\":{\"colorbar\":{\"outlinewidth\":0,\"ticks\":\"\"}}}],\"bar\":[{\"error_x\":{\"color\":\"#2a3f5f\"},\"error_y\":{\"color\":\"#2a3f5f\"},\"marker\":{\"line\":{\"color\":\"#E5ECF6\",\"width\":0.5},\"pattern\":{\"fillmode\":\"overlay\",\"size\":10,\"solidity\":0.2}},\"type\":\"bar\"}],\"scattergeo\":[{\"type\":\"scattergeo\",\"marker\":{\"colorbar\":{\"outlinewidth\":0,\"ticks\":\"\"}}}],\"scatterpolar\":[{\"type\":\"scatterpolar\",\"marker\":{\"colorbar\":{\"outlinewidth\":0,\"ticks\":\"\"}}}],\"histogram\":[{\"marker\":{\"pattern\":{\"fillmode\":\"overlay\",\"size\":10,\"solidity\":0.2}},\"type\":\"histogram\"}],\"scattergl\":[{\"type\":\"scattergl\",\"marker\":{\"colorbar\":{\"outlinewidth\":0,\"ticks\":\"\"}}}],\"scatter3d\":[{\"type\":\"scatter3d\",\"line\":{\"colorbar\":{\"outlinewidth\":0,\"ticks\":\"\"}},\"marker\":{\"colorbar\":{\"outlinewidth\":0,\"ticks\":\"\"}}}],\"scattermapbox\":[{\"type\":\"scattermapbox\",\"marker\":{\"colorbar\":{\"outlinewidth\":0,\"ticks\":\"\"}}}],\"scatterternary\":[{\"type\":\"scatterternary\",\"marker\":{\"colorbar\":{\"outlinewidth\":0,\"ticks\":\"\"}}}],\"scattercarpet\":[{\"type\":\"scattercarpet\",\"marker\":{\"colorbar\":{\"outlinewidth\":0,\"ticks\":\"\"}}}],\"carpet\":[{\"aaxis\":{\"endlinecolor\":\"#2a3f5f\",\"gridcolor\":\"white\",\"linecolor\":\"white\",\"minorgridcolor\":\"white\",\"startlinecolor\":\"#2a3f5f\"},\"baxis\":{\"endlinecolor\":\"#2a3f5f\",\"gridcolor\":\"white\",\"linecolor\":\"white\",\"minorgridcolor\":\"white\",\"startlinecolor\":\"#2a3f5f\"},\"type\":\"carpet\"}],\"table\":[{\"cells\":{\"fill\":{\"color\":\"#EBF0F8\"},\"line\":{\"color\":\"white\"}},\"header\":{\"fill\":{\"color\":\"#C8D4E3\"},\"line\":{\"color\":\"white\"}},\"type\":\"table\"}],\"barpolar\":[{\"marker\":{\"line\":{\"color\":\"#E5ECF6\",\"width\":0.5},\"pattern\":{\"fillmode\":\"overlay\",\"size\":10,\"solidity\":0.2}},\"type\":\"barpolar\"}],\"pie\":[{\"automargin\":true,\"type\":\"pie\"}]},\"layout\":{\"autotypenumbers\":\"strict\",\"colorway\":[\"#636efa\",\"#EF553B\",\"#00cc96\",\"#ab63fa\",\"#FFA15A\",\"#19d3f3\",\"#FF6692\",\"#B6E880\",\"#FF97FF\",\"#FECB52\"],\"font\":{\"color\":\"#2a3f5f\"},\"hovermode\":\"closest\",\"hoverlabel\":{\"align\":\"left\"},\"paper_bgcolor\":\"white\",\"plot_bgcolor\":\"#E5ECF6\",\"polar\":{\"bgcolor\":\"#E5ECF6\",\"angularaxis\":{\"gridcolor\":\"white\",\"linecolor\":\"white\",\"ticks\":\"\"},\"radialaxis\":{\"gridcolor\":\"white\",\"linecolor\":\"white\",\"ticks\":\"\"}},\"ternary\":{\"bgcolor\":\"#E5ECF6\",\"aaxis\":{\"gridcolor\":\"white\",\"linecolor\":\"white\",\"ticks\":\"\"},\"baxis\":{\"gridcolor\":\"white\",\"linecolor\":\"white\",\"ticks\":\"\"},\"caxis\":{\"gridcolor\":\"white\",\"linecolor\":\"white\",\"ticks\":\"\"}},\"coloraxis\":{\"colorbar\":{\"outlinewidth\":0,\"ticks\":\"\"}},\"colorscale\":{\"sequential\":[[0.0,\"#0d0887\"],[0.1111111111111111,\"#46039f\"],[0.2222222222222222,\"#7201a8\"],[0.3333333333333333,\"#9c179e\"],[0.4444444444444444,\"#bd3786\"],[0.5555555555555556,\"#d8576b\"],[0.6666666666666666,\"#ed7953\"],[0.7777777777777778,\"#fb9f3a\"],[0.8888888888888888,\"#fdca26\"],[1.0,\"#f0f921\"]],\"sequentialminus\":[[0.0,\"#0d0887\"],[0.1111111111111111,\"#46039f\"],[0.2222222222222222,\"#7201a8\"],[0.3333333333333333,\"#9c179e\"],[0.4444444444444444,\"#bd3786\"],[0.5555555555555556,\"#d8576b\"],[0.6666666666666666,\"#ed7953\"],[0.7777777777777778,\"#fb9f3a\"],[0.8888888888888888,\"#fdca26\"],[1.0,\"#f0f921\"]],\"diverging\":[[0,\"#8e0152\"],[0.1,\"#c51b7d\"],[0.2,\"#de77ae\"],[0.3,\"#f1b6da\"],[0.4,\"#fde0ef\"],[0.5,\"#f7f7f7\"],[0.6,\"#e6f5d0\"],[0.7,\"#b8e186\"],[0.8,\"#7fbc41\"],[0.9,\"#4d9221\"],[1,\"#276419\"]]},\"xaxis\":{\"gridcolor\":\"white\",\"linecolor\":\"white\",\"ticks\":\"\",\"title\":{\"standoff\":15},\"zerolinecolor\":\"white\",\"automargin\":true,\"zerolinewidth\":2},\"yaxis\":{\"gridcolor\":\"white\",\"linecolor\":\"white\",\"ticks\":\"\",\"title\":{\"standoff\":15},\"zerolinecolor\":\"white\",\"automargin\":true,\"zerolinewidth\":2},\"scene\":{\"xaxis\":{\"backgroundcolor\":\"#E5ECF6\",\"gridcolor\":\"white\",\"linecolor\":\"white\",\"showbackground\":true,\"ticks\":\"\",\"zerolinecolor\":\"white\",\"gridwidth\":2},\"yaxis\":{\"backgroundcolor\":\"#E5ECF6\",\"gridcolor\":\"white\",\"linecolor\":\"white\",\"showbackground\":true,\"ticks\":\"\",\"zerolinecolor\":\"white\",\"gridwidth\":2},\"zaxis\":{\"backgroundcolor\":\"#E5ECF6\",\"gridcolor\":\"white\",\"linecolor\":\"white\",\"showbackground\":true,\"ticks\":\"\",\"zerolinecolor\":\"white\",\"gridwidth\":2}},\"shapedefaults\":{\"line\":{\"color\":\"#2a3f5f\"}},\"annotationdefaults\":{\"arrowcolor\":\"#2a3f5f\",\"arrowhead\":0,\"arrowwidth\":1},\"geo\":{\"bgcolor\":\"white\",\"landcolor\":\"#E5ECF6\",\"subunitcolor\":\"white\",\"showland\":true,\"showlakes\":true,\"lakecolor\":\"white\"},\"title\":{\"x\":0.05},\"mapbox\":{\"style\":\"light\"}}},\"xaxis\":{\"anchor\":\"y\",\"domain\":[0.0,0.2888888888888889]},\"yaxis\":{\"anchor\":\"x\",\"domain\":[0.88,1.0]},\"xaxis2\":{\"anchor\":\"y2\",\"domain\":[0.35555555555555557,0.6444444444444445]},\"yaxis2\":{\"anchor\":\"x2\",\"domain\":[0.88,1.0]},\"xaxis3\":{\"anchor\":\"y3\",\"domain\":[0.7111111111111111,1.0]},\"yaxis3\":{\"anchor\":\"x3\",\"domain\":[0.88,1.0]},\"xaxis4\":{\"anchor\":\"y4\",\"domain\":[0.0,0.2888888888888889]},\"yaxis4\":{\"anchor\":\"x4\",\"domain\":[0.66,0.78]},\"xaxis5\":{\"anchor\":\"y5\",\"domain\":[0.35555555555555557,0.6444444444444445]},\"yaxis5\":{\"anchor\":\"x5\",\"domain\":[0.66,0.78]},\"xaxis6\":{\"anchor\":\"y6\",\"domain\":[0.7111111111111111,1.0]},\"yaxis6\":{\"anchor\":\"x6\",\"domain\":[0.66,0.78]},\"xaxis7\":{\"anchor\":\"y7\",\"domain\":[0.0,0.2888888888888889]},\"yaxis7\":{\"anchor\":\"x7\",\"domain\":[0.44,0.56]},\"xaxis8\":{\"anchor\":\"y8\",\"domain\":[0.35555555555555557,0.6444444444444445]},\"yaxis8\":{\"anchor\":\"x8\",\"domain\":[0.44,0.56]},\"xaxis9\":{\"anchor\":\"y9\",\"domain\":[0.7111111111111111,1.0]},\"yaxis9\":{\"anchor\":\"x9\",\"domain\":[0.44,0.56]},\"xaxis10\":{\"anchor\":\"y10\",\"domain\":[0.0,0.2888888888888889]},\"yaxis10\":{\"anchor\":\"x10\",\"domain\":[0.22,0.33999999999999997]},\"xaxis11\":{\"anchor\":\"y11\",\"domain\":[0.35555555555555557,0.6444444444444445]},\"yaxis11\":{\"anchor\":\"x11\",\"domain\":[0.22,0.33999999999999997]},\"xaxis12\":{\"anchor\":\"y12\",\"domain\":[0.7111111111111111,1.0]},\"yaxis12\":{\"anchor\":\"x12\",\"domain\":[0.22,0.33999999999999997]},\"xaxis13\":{\"anchor\":\"y13\",\"domain\":[0.0,0.2888888888888889]},\"yaxis13\":{\"anchor\":\"x13\",\"domain\":[0.0,0.12]},\"xaxis14\":{\"anchor\":\"y14\",\"domain\":[0.35555555555555557,0.6444444444444445]},\"yaxis14\":{\"anchor\":\"x14\",\"domain\":[0.0,0.12]},\"xaxis15\":{\"anchor\":\"y15\",\"domain\":[0.7111111111111111,1.0]},\"yaxis15\":{\"anchor\":\"x15\",\"domain\":[0.0,0.12]},\"annotations\":[{\"font\":{\"size\":16},\"showarrow\":false,\"text\":\"Transported\",\"x\":0.14444444444444446,\"xanchor\":\"center\",\"xref\":\"paper\",\"y\":1.0,\"yanchor\":\"bottom\",\"yref\":\"paper\"},{\"font\":{\"size\":16},\"showarrow\":false,\"text\":\"PassengerGroup\",\"x\":0.5,\"xanchor\":\"center\",\"xref\":\"paper\",\"y\":1.0,\"yanchor\":\"bottom\",\"yref\":\"paper\"},{\"font\":{\"size\":16},\"showarrow\":false,\"text\":\"PassengerGroupNum\",\"x\":0.8555555555555556,\"xanchor\":\"center\",\"xref\":\"paper\",\"y\":1.0,\"yanchor\":\"bottom\",\"yref\":\"paper\"}],\"height\":1500},                        {\"responsive\": true}                    ).then(function(){\n",
              "                            \n",
              "var gd = document.getElementById('ce30aaf3-ffd2-4ad4-96b9-3f537268b184');\n",
              "var x = new MutationObserver(function (mutations, observer) {{\n",
              "        var display = window.getComputedStyle(gd).display;\n",
              "        if (!display || display === 'none') {{\n",
              "            console.log([gd, 'removed!']);\n",
              "            Plotly.purge(gd);\n",
              "            observer.disconnect();\n",
              "        }}\n",
              "}});\n",
              "\n",
              "// Listen for the removal of the full notebook cells\n",
              "var notebookContainer = gd.closest('#notebook-container');\n",
              "if (notebookContainer) {{\n",
              "    x.observe(notebookContainer, {childList: true});\n",
              "}}\n",
              "\n",
              "// Listen for the clearing of the current output cell\n",
              "var outputEl = gd.closest('.output');\n",
              "if (outputEl) {{\n",
              "    x.observe(outputEl, {childList: true});\n",
              "}}\n",
              "\n",
              "                        })                };                            </script>        </div>\n",
              "</body>\n",
              "</html>"
            ]
          },
          "metadata": {}
        }
      ]
    },
    {
      "cell_type": "markdown",
      "source": [
        "** - People that come from Earth are less likely to be transported.\n",
        "- CryoSleep negatively affects the chance of being transported.\n",
        "- Depending on the destination odds of being transported can be slightly higher or lower.\n",
        "- Young childs are much more likely to be transported, especially when compared to young adults. Older people seem to have a 50/50 chance.\n",
        "- Being a VIP does not really matter.\n",
        "- It is hard to read tendencies from the amenities since the distributions are so skewed.\n",
        "- The other features seem to have some kind of effect in the chances of being transported.\n",
        "\n",
        "We can confirm those tendencies with a correlation matrix.**"
      ],
      "metadata": {
        "id": "HKtnjS5LZmVu"
      }
    },
    {
      "cell_type": "code",
      "source": [],
      "metadata": {
        "id": "v9lunIM-Z3gg"
      },
      "execution_count": null,
      "outputs": []
    }
  ]
}